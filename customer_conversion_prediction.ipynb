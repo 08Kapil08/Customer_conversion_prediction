{
 "cells": [
  {
   "cell_type": "markdown",
   "id": "5019c5cb",
   "metadata": {},
   "source": [
    "# Customer Conversion Prediction\n",
    "\n",
    "### Problem Statement\n",
    "\n",
    "You are working for a new-age insurance company and employ mutiple outreach plans to sell term insurance to your customers. \n",
    "Telephonic marketing campaigns still remain one of the most effective way to reach out to people however they incur a lot of\n",
    "cost. Hence, it is important to identify the customers that are most likely to convert beforehand so that they can be \n",
    "specifically targeted via call. We are given the historical marketing data of the insurance company and are required to build \n",
    "a ML model that will predict if a client will subscribe to the insurance.\n",
    "\n",
    "### Features:\n",
    "\n",
    "- age (numeric) \n",
    "\n",
    "- job : type of job\n",
    "\n",
    "- marital : marital status\n",
    "\n",
    "- educational_qual : education status\n",
    "\n",
    "- call_type : contact communication type\n",
    "\n",
    "- day: last contact day of the month (numeric)\n",
    "\n",
    "- mon: last contact month of year\n",
    "\n",
    "- dur: last contact duration, in seconds (numeric)\n",
    "\n",
    "- num_calls: number of contacts performed during this campaign and for this client\n",
    "\n",
    "- prev_outcome: outcome of the previous marketing campaign (categorical: \"unknown\",\"other\",\"failure\",\"success\")\n",
    "\n",
    "- Output variable (desired target):\n",
    "\n",
    "y - has the client subscribed to the insurance?\n",
    "\n",
    "\n",
    "###############################################################################################################################\n",
    "\n",
    "\n",
    "## Basic Analysis of Dataset from Problem Statement and Features\n",
    "\n",
    "- It is a supervised learning problem - We are predicting target variable\n",
    "- From target varible we can clearly understand it is a classification problem\n",
    "- From target variable we can tell it is a binary classification problem.\n",
    "\n"
   ]
  },
  {
   "cell_type": "code",
   "execution_count": null,
   "id": "a8e20980",
   "metadata": {},
   "outputs": [],
   "source": []
  },
  {
   "cell_type": "code",
   "execution_count": 1,
   "id": "29e141d9",
   "metadata": {},
   "outputs": [],
   "source": [
    "import pandas as pd\n",
    "import numpy as np\n",
    "import warnings\n",
    "from sklearn.exceptions import ConvergenceWarning\n",
    "import matplotlib.pyplot as plt\n",
    "import seaborn as sns"
   ]
  },
  {
   "cell_type": "code",
   "execution_count": 2,
   "id": "ce66021f",
   "metadata": {},
   "outputs": [
    {
     "data": {
      "text/html": [
       "<div>\n",
       "<style scoped>\n",
       "    .dataframe tbody tr th:only-of-type {\n",
       "        vertical-align: middle;\n",
       "    }\n",
       "\n",
       "    .dataframe tbody tr th {\n",
       "        vertical-align: top;\n",
       "    }\n",
       "\n",
       "    .dataframe thead th {\n",
       "        text-align: right;\n",
       "    }\n",
       "</style>\n",
       "<table border=\"1\" class=\"dataframe\">\n",
       "  <thead>\n",
       "    <tr style=\"text-align: right;\">\n",
       "      <th></th>\n",
       "      <th>age</th>\n",
       "      <th>job</th>\n",
       "      <th>marital</th>\n",
       "      <th>education_qual</th>\n",
       "      <th>call_type</th>\n",
       "      <th>day</th>\n",
       "      <th>mon</th>\n",
       "      <th>dur</th>\n",
       "      <th>num_calls</th>\n",
       "      <th>prev_outcome</th>\n",
       "      <th>y</th>\n",
       "    </tr>\n",
       "  </thead>\n",
       "  <tbody>\n",
       "    <tr>\n",
       "      <th>0</th>\n",
       "      <td>58</td>\n",
       "      <td>management</td>\n",
       "      <td>married</td>\n",
       "      <td>tertiary</td>\n",
       "      <td>unknown</td>\n",
       "      <td>5</td>\n",
       "      <td>may</td>\n",
       "      <td>261</td>\n",
       "      <td>1</td>\n",
       "      <td>unknown</td>\n",
       "      <td>no</td>\n",
       "    </tr>\n",
       "    <tr>\n",
       "      <th>1</th>\n",
       "      <td>44</td>\n",
       "      <td>technician</td>\n",
       "      <td>single</td>\n",
       "      <td>secondary</td>\n",
       "      <td>unknown</td>\n",
       "      <td>5</td>\n",
       "      <td>may</td>\n",
       "      <td>151</td>\n",
       "      <td>1</td>\n",
       "      <td>unknown</td>\n",
       "      <td>no</td>\n",
       "    </tr>\n",
       "    <tr>\n",
       "      <th>2</th>\n",
       "      <td>33</td>\n",
       "      <td>entrepreneur</td>\n",
       "      <td>married</td>\n",
       "      <td>secondary</td>\n",
       "      <td>unknown</td>\n",
       "      <td>5</td>\n",
       "      <td>may</td>\n",
       "      <td>76</td>\n",
       "      <td>1</td>\n",
       "      <td>unknown</td>\n",
       "      <td>no</td>\n",
       "    </tr>\n",
       "    <tr>\n",
       "      <th>3</th>\n",
       "      <td>47</td>\n",
       "      <td>blue-collar</td>\n",
       "      <td>married</td>\n",
       "      <td>unknown</td>\n",
       "      <td>unknown</td>\n",
       "      <td>5</td>\n",
       "      <td>may</td>\n",
       "      <td>92</td>\n",
       "      <td>1</td>\n",
       "      <td>unknown</td>\n",
       "      <td>no</td>\n",
       "    </tr>\n",
       "    <tr>\n",
       "      <th>4</th>\n",
       "      <td>33</td>\n",
       "      <td>unknown</td>\n",
       "      <td>single</td>\n",
       "      <td>unknown</td>\n",
       "      <td>unknown</td>\n",
       "      <td>5</td>\n",
       "      <td>may</td>\n",
       "      <td>198</td>\n",
       "      <td>1</td>\n",
       "      <td>unknown</td>\n",
       "      <td>no</td>\n",
       "    </tr>\n",
       "  </tbody>\n",
       "</table>\n",
       "</div>"
      ],
      "text/plain": [
       "   age           job  marital education_qual call_type  day  mon  dur  \\\n",
       "0   58    management  married       tertiary   unknown    5  may  261   \n",
       "1   44    technician   single      secondary   unknown    5  may  151   \n",
       "2   33  entrepreneur  married      secondary   unknown    5  may   76   \n",
       "3   47   blue-collar  married        unknown   unknown    5  may   92   \n",
       "4   33       unknown   single        unknown   unknown    5  may  198   \n",
       "\n",
       "   num_calls prev_outcome   y  \n",
       "0          1      unknown  no  \n",
       "1          1      unknown  no  \n",
       "2          1      unknown  no  \n",
       "3          1      unknown  no  \n",
       "4          1      unknown  no  "
      ]
     },
     "execution_count": 2,
     "metadata": {},
     "output_type": "execute_result"
    }
   ],
   "source": [
    "\n",
    "# reading the csv file and checking what are all the columns in the dataset\n",
    "\n",
    "df = pd.read_csv(\"E:/downloads/train.csv\")\n",
    "pd.set_option('display.max_columns',None)\n",
    "df.head()"
   ]
  },
  {
   "cell_type": "markdown",
   "id": "4afd99ea",
   "metadata": {},
   "source": [
    "## Shape"
   ]
  },
  {
   "cell_type": "code",
   "execution_count": 3,
   "id": "d4c0daac",
   "metadata": {},
   "outputs": [
    {
     "name": "stdout",
     "output_type": "stream",
     "text": [
      "In this dataset total rows = 45211 and total columns = 11\n"
     ]
    }
   ],
   "source": [
    "\n",
    "# let's check the shape of the dataset\n",
    "\n",
    "print(f'In this dataset total rows = {df.shape[0]} and total columns = {df.shape[1]}')"
   ]
  },
  {
   "cell_type": "code",
   "execution_count": null,
   "id": "d9515d45",
   "metadata": {},
   "outputs": [],
   "source": []
  },
  {
   "cell_type": "markdown",
   "id": "0d3e8246",
   "metadata": {},
   "source": [
    "# DATA CLEANING"
   ]
  },
  {
   "cell_type": "markdown",
   "id": "1863e840",
   "metadata": {},
   "source": [
    "## Missing values"
   ]
  },
  {
   "cell_type": "code",
   "execution_count": 4,
   "id": "48174e24",
   "metadata": {},
   "outputs": [
    {
     "data": {
      "text/html": [
       "<div>\n",
       "<style scoped>\n",
       "    .dataframe tbody tr th:only-of-type {\n",
       "        vertical-align: middle;\n",
       "    }\n",
       "\n",
       "    .dataframe tbody tr th {\n",
       "        vertical-align: top;\n",
       "    }\n",
       "\n",
       "    .dataframe thead th {\n",
       "        text-align: right;\n",
       "    }\n",
       "</style>\n",
       "<table border=\"1\" class=\"dataframe\">\n",
       "  <thead>\n",
       "    <tr style=\"text-align: right;\">\n",
       "      <th></th>\n",
       "      <th>age</th>\n",
       "      <th>job</th>\n",
       "      <th>marital</th>\n",
       "      <th>education_qual</th>\n",
       "      <th>call_type</th>\n",
       "      <th>day</th>\n",
       "      <th>mon</th>\n",
       "      <th>dur</th>\n",
       "      <th>num_calls</th>\n",
       "      <th>prev_outcome</th>\n",
       "      <th>y</th>\n",
       "    </tr>\n",
       "  </thead>\n",
       "  <tbody>\n",
       "    <tr>\n",
       "      <th>Column Types</th>\n",
       "      <td>int64</td>\n",
       "      <td>object</td>\n",
       "      <td>object</td>\n",
       "      <td>object</td>\n",
       "      <td>object</td>\n",
       "      <td>int64</td>\n",
       "      <td>object</td>\n",
       "      <td>int64</td>\n",
       "      <td>int64</td>\n",
       "      <td>object</td>\n",
       "      <td>object</td>\n",
       "    </tr>\n",
       "    <tr>\n",
       "      <th>Null Values</th>\n",
       "      <td>0</td>\n",
       "      <td>0</td>\n",
       "      <td>0</td>\n",
       "      <td>0</td>\n",
       "      <td>0</td>\n",
       "      <td>0</td>\n",
       "      <td>0</td>\n",
       "      <td>0</td>\n",
       "      <td>0</td>\n",
       "      <td>0</td>\n",
       "      <td>0</td>\n",
       "    </tr>\n",
       "    <tr>\n",
       "      <th>Null Values (%)</th>\n",
       "      <td>0.0</td>\n",
       "      <td>0.0</td>\n",
       "      <td>0.0</td>\n",
       "      <td>0.0</td>\n",
       "      <td>0.0</td>\n",
       "      <td>0.0</td>\n",
       "      <td>0.0</td>\n",
       "      <td>0.0</td>\n",
       "      <td>0.0</td>\n",
       "      <td>0.0</td>\n",
       "      <td>0.0</td>\n",
       "    </tr>\n",
       "  </tbody>\n",
       "</table>\n",
       "</div>"
      ],
      "text/plain": [
       "                   age     job marital education_qual call_type    day  \\\n",
       "Column Types     int64  object  object         object    object  int64   \n",
       "Null Values          0       0       0              0         0      0   \n",
       "Null Values (%)    0.0     0.0     0.0            0.0       0.0    0.0   \n",
       "\n",
       "                    mon    dur num_calls prev_outcome       y  \n",
       "Column Types     object  int64     int64       object  object  \n",
       "Null Values           0      0         0            0       0  \n",
       "Null Values (%)     0.0    0.0       0.0          0.0     0.0  "
      ]
     },
     "execution_count": 4,
     "metadata": {},
     "output_type": "execute_result"
    }
   ],
   "source": [
    "\n",
    "# let's check whether there is any missing values present in the dataset\n",
    "# here itself let's check the dtypes of the columns\n",
    "\n",
    "warnings.simplefilter(action='ignore',category=FutureWarning)\n",
    "\n",
    "col_info = pd.DataFrame(df.dtypes).T.rename(index = {0:'Column Types'})\n",
    "\n",
    "col_info = col_info.append(pd.DataFrame(df.isnull().sum()).T.rename(index = {0:'Null Values'}))\n",
    "\n",
    "col_info = col_info.append(pd.DataFrame((df.isnull().sum())/len(df)).T.rename(index = {0:'Null Values (%)'}))\n",
    "col_info"
   ]
  },
  {
   "cell_type": "raw",
   "id": "9430155a",
   "metadata": {},
   "source": [
    "\n",
    "Here it seems like there is no null values in this dataset.\n",
    "And the data types of all the columns are correct.\n"
   ]
  },
  {
   "cell_type": "code",
   "execution_count": 5,
   "id": "3c734e2e",
   "metadata": {},
   "outputs": [],
   "source": [
    "\n",
    "num_var = df[['age', 'day', 'dur', 'num_calls']]\n",
    "cat_var = df[['job', 'marital', 'education_qual', 'call_type', 'mon', 'prev_outcome']]"
   ]
  },
  {
   "cell_type": "code",
   "execution_count": null,
   "id": "fe412be4",
   "metadata": {},
   "outputs": [],
   "source": []
  },
  {
   "cell_type": "markdown",
   "id": "6f905ac7",
   "metadata": {},
   "source": [
    "## Duplicates"
   ]
  },
  {
   "cell_type": "code",
   "execution_count": 6,
   "id": "ad818094",
   "metadata": {},
   "outputs": [
    {
     "data": {
      "text/plain": [
       "6"
      ]
     },
     "execution_count": 6,
     "metadata": {},
     "output_type": "execute_result"
    }
   ],
   "source": [
    "\n",
    "# now let's check is there is any dublicates \n",
    "\n",
    "df.duplicated().sum()"
   ]
  },
  {
   "cell_type": "code",
   "execution_count": 7,
   "id": "595bc5ce",
   "metadata": {},
   "outputs": [
    {
     "data": {
      "text/plain": [
       "0"
      ]
     },
     "execution_count": 7,
     "metadata": {},
     "output_type": "execute_result"
    }
   ],
   "source": [
    "\n",
    "# let's drop the dublicates from the datasets\n",
    "\n",
    "df = df.drop_duplicates()\n",
    "df.duplicated().sum()"
   ]
  },
  {
   "cell_type": "code",
   "execution_count": 8,
   "id": "771582f3",
   "metadata": {},
   "outputs": [
    {
     "data": {
      "text/html": [
       "<div>\n",
       "<style scoped>\n",
       "    .dataframe tbody tr th:only-of-type {\n",
       "        vertical-align: middle;\n",
       "    }\n",
       "\n",
       "    .dataframe tbody tr th {\n",
       "        vertical-align: top;\n",
       "    }\n",
       "\n",
       "    .dataframe thead th {\n",
       "        text-align: right;\n",
       "    }\n",
       "</style>\n",
       "<table border=\"1\" class=\"dataframe\">\n",
       "  <thead>\n",
       "    <tr style=\"text-align: right;\">\n",
       "      <th></th>\n",
       "      <th>object</th>\n",
       "      <th>int64</th>\n",
       "    </tr>\n",
       "  </thead>\n",
       "  <tbody>\n",
       "    <tr>\n",
       "      <th>0</th>\n",
       "      <td>7</td>\n",
       "      <td>4</td>\n",
       "    </tr>\n",
       "  </tbody>\n",
       "</table>\n",
       "</div>"
      ],
      "text/plain": [
       "   object  int64\n",
       "0       7      4"
      ]
     },
     "execution_count": 8,
     "metadata": {},
     "output_type": "execute_result"
    }
   ],
   "source": [
    "\n",
    "# let's check the count of dtypes\n",
    "\n",
    "pd.DataFrame(df.dtypes.value_counts()).T"
   ]
  },
  {
   "cell_type": "code",
   "execution_count": null,
   "id": "692fadc9",
   "metadata": {},
   "outputs": [],
   "source": []
  },
  {
   "cell_type": "markdown",
   "id": "ae68c487",
   "metadata": {},
   "source": [
    "## Misspelled word"
   ]
  },
  {
   "cell_type": "raw",
   "id": "0c2a06dc",
   "metadata": {},
   "source": [
    "\n",
    "Now let's check is there is any spelling mistakes if there is any let's correct 'em up"
   ]
  },
  {
   "cell_type": "code",
   "execution_count": 9,
   "id": "e27f6cdb",
   "metadata": {},
   "outputs": [
    {
     "name": "stdout",
     "output_type": "stream",
     "text": [
      "UNIQUE CATEGORIES OF COLUMN ---> JOB \n",
      "\n",
      "['management' 'technician' 'entrepreneur' 'blue-collar' 'unknown'\n",
      " 'retired' 'admin.' 'services' 'self-employed' 'unemployed' 'housemaid'\n",
      " 'student']\n"
     ]
    }
   ],
   "source": [
    "\n",
    "print(\"UNIQUE CATEGORIES OF COLUMN ---> JOB \\n\")\n",
    "print(df['job'].unique())"
   ]
  },
  {
   "cell_type": "code",
   "execution_count": 10,
   "id": "1398c903",
   "metadata": {},
   "outputs": [
    {
     "name": "stdout",
     "output_type": "stream",
     "text": [
      "UNIQUE CATEGORIES OF COLUMN ---> MARITAL STATUS \n",
      "\n",
      "['married' 'single' 'divorced']\n"
     ]
    }
   ],
   "source": [
    "\n",
    "print(\"UNIQUE CATEGORIES OF COLUMN ---> MARITAL STATUS \\n\")\n",
    "print(df['marital'].unique())"
   ]
  },
  {
   "cell_type": "code",
   "execution_count": 11,
   "id": "0b66ecad",
   "metadata": {},
   "outputs": [
    {
     "name": "stdout",
     "output_type": "stream",
     "text": [
      "UNIQUE CATEGORIES OF COLUMN ---> EDUCATION QUALIFICATION \n",
      "\n",
      "['tertiary' 'secondary' 'unknown' 'primary']\n"
     ]
    }
   ],
   "source": [
    "\n",
    "print(\"UNIQUE CATEGORIES OF COLUMN ---> EDUCATION QUALIFICATION \\n\")\n",
    "print(df['education_qual'].unique())"
   ]
  },
  {
   "cell_type": "code",
   "execution_count": 12,
   "id": "74d7834b",
   "metadata": {},
   "outputs": [
    {
     "name": "stdout",
     "output_type": "stream",
     "text": [
      "UNIQUE CATEGORIES OF COLUMN ---> CALL TYPE \n",
      "\n",
      "['unknown' 'cellular' 'telephone']\n"
     ]
    }
   ],
   "source": [
    "\n",
    "print(\"UNIQUE CATEGORIES OF COLUMN ---> CALL TYPE \\n\")\n",
    "print(df['call_type'].unique())"
   ]
  },
  {
   "cell_type": "code",
   "execution_count": 13,
   "id": "7f2690ed",
   "metadata": {},
   "outputs": [
    {
     "name": "stdout",
     "output_type": "stream",
     "text": [
      "UNIQUE CATEGORIES OF COLUMN ---> MONTH \n",
      "\n",
      "['may' 'jun' 'jul' 'aug' 'oct' 'nov' 'dec' 'jan' 'feb' 'mar' 'apr' 'sep']\n"
     ]
    }
   ],
   "source": [
    "\n",
    "print(\"UNIQUE CATEGORIES OF COLUMN ---> MONTH \\n\")\n",
    "print(df['mon'].unique())"
   ]
  },
  {
   "cell_type": "code",
   "execution_count": 14,
   "id": "ce234bb7",
   "metadata": {},
   "outputs": [
    {
     "name": "stdout",
     "output_type": "stream",
     "text": [
      "UNIQUE CATEGORIES OF COLUMN ---> PREVIOUS OUTCOME \n",
      "\n",
      "['unknown' 'failure' 'other' 'success']\n"
     ]
    }
   ],
   "source": [
    "\n",
    "print(\"UNIQUE CATEGORIES OF COLUMN ---> PREVIOUS OUTCOME \\n\")\n",
    "print(df['prev_outcome'].unique())"
   ]
  },
  {
   "cell_type": "raw",
   "id": "f102fd12",
   "metadata": {},
   "source": [
    "\n",
    "no spelling correction is needed bcoz all in correct format\n"
   ]
  },
  {
   "cell_type": "code",
   "execution_count": 15,
   "id": "807cbd18",
   "metadata": {},
   "outputs": [
    {
     "name": "stdout",
     "output_type": "stream",
     "text": [
      "UNIQUE CATEGORIES OF COLUMN ---> TARGET VARIABLE y \n",
      "\n",
      "no     39916\n",
      "yes     5289\n",
      "Name: y, dtype: int64\n"
     ]
    }
   ],
   "source": [
    "\n",
    "print(\"UNIQUE CATEGORIES OF COLUMN ---> TARGET VARIABLE y \\n\")\n",
    "print(df['y'].value_counts())"
   ]
  },
  {
   "cell_type": "code",
   "execution_count": 16,
   "id": "de115a64",
   "metadata": {},
   "outputs": [
    {
     "name": "stdout",
     "output_type": "stream",
     "text": [
      "percentage of no :  88.30 %\n",
      "percentage of yes :  11.70 %\n"
     ]
    }
   ],
   "source": [
    "\n",
    "print(\"percentage of no : \",\"{:.2f}\".format(39916/(39916+5289)*100),'%')\n",
    "print(\"percentage of yes : \",\"{:.2f}\".format(5289/(39916+5289)*100),'%')"
   ]
  },
  {
   "cell_type": "raw",
   "id": "8d37832f",
   "metadata": {},
   "source": [
    "\n",
    "Here the percentage of one class is >70 so it's a IMBALANCED learning\n"
   ]
  },
  {
   "cell_type": "code",
   "execution_count": 17,
   "id": "7e4f47b0",
   "metadata": {},
   "outputs": [],
   "source": [
    "\n",
    "# let's change the categorical value to numerical for target data\n",
    "\n",
    "df['target'] = df['y'].map({'yes':1,'no':0})\n",
    "del df['y']"
   ]
  },
  {
   "cell_type": "code",
   "execution_count": 18,
   "id": "065cd045",
   "metadata": {},
   "outputs": [
    {
     "data": {
      "text/html": [
       "<div>\n",
       "<style scoped>\n",
       "    .dataframe tbody tr th:only-of-type {\n",
       "        vertical-align: middle;\n",
       "    }\n",
       "\n",
       "    .dataframe tbody tr th {\n",
       "        vertical-align: top;\n",
       "    }\n",
       "\n",
       "    .dataframe thead th {\n",
       "        text-align: right;\n",
       "    }\n",
       "</style>\n",
       "<table border=\"1\" class=\"dataframe\">\n",
       "  <thead>\n",
       "    <tr style=\"text-align: right;\">\n",
       "      <th></th>\n",
       "      <th>age</th>\n",
       "      <th>job</th>\n",
       "      <th>marital</th>\n",
       "      <th>education_qual</th>\n",
       "      <th>call_type</th>\n",
       "      <th>day</th>\n",
       "      <th>mon</th>\n",
       "      <th>dur</th>\n",
       "      <th>num_calls</th>\n",
       "      <th>prev_outcome</th>\n",
       "      <th>target</th>\n",
       "    </tr>\n",
       "  </thead>\n",
       "  <tbody>\n",
       "    <tr>\n",
       "      <th>0</th>\n",
       "      <td>58</td>\n",
       "      <td>management</td>\n",
       "      <td>married</td>\n",
       "      <td>tertiary</td>\n",
       "      <td>unknown</td>\n",
       "      <td>5</td>\n",
       "      <td>may</td>\n",
       "      <td>261</td>\n",
       "      <td>1</td>\n",
       "      <td>unknown</td>\n",
       "      <td>0</td>\n",
       "    </tr>\n",
       "    <tr>\n",
       "      <th>1</th>\n",
       "      <td>44</td>\n",
       "      <td>technician</td>\n",
       "      <td>single</td>\n",
       "      <td>secondary</td>\n",
       "      <td>unknown</td>\n",
       "      <td>5</td>\n",
       "      <td>may</td>\n",
       "      <td>151</td>\n",
       "      <td>1</td>\n",
       "      <td>unknown</td>\n",
       "      <td>0</td>\n",
       "    </tr>\n",
       "    <tr>\n",
       "      <th>2</th>\n",
       "      <td>33</td>\n",
       "      <td>entrepreneur</td>\n",
       "      <td>married</td>\n",
       "      <td>secondary</td>\n",
       "      <td>unknown</td>\n",
       "      <td>5</td>\n",
       "      <td>may</td>\n",
       "      <td>76</td>\n",
       "      <td>1</td>\n",
       "      <td>unknown</td>\n",
       "      <td>0</td>\n",
       "    </tr>\n",
       "    <tr>\n",
       "      <th>3</th>\n",
       "      <td>47</td>\n",
       "      <td>blue-collar</td>\n",
       "      <td>married</td>\n",
       "      <td>unknown</td>\n",
       "      <td>unknown</td>\n",
       "      <td>5</td>\n",
       "      <td>may</td>\n",
       "      <td>92</td>\n",
       "      <td>1</td>\n",
       "      <td>unknown</td>\n",
       "      <td>0</td>\n",
       "    </tr>\n",
       "    <tr>\n",
       "      <th>4</th>\n",
       "      <td>33</td>\n",
       "      <td>unknown</td>\n",
       "      <td>single</td>\n",
       "      <td>unknown</td>\n",
       "      <td>unknown</td>\n",
       "      <td>5</td>\n",
       "      <td>may</td>\n",
       "      <td>198</td>\n",
       "      <td>1</td>\n",
       "      <td>unknown</td>\n",
       "      <td>0</td>\n",
       "    </tr>\n",
       "  </tbody>\n",
       "</table>\n",
       "</div>"
      ],
      "text/plain": [
       "   age           job  marital education_qual call_type  day  mon  dur  \\\n",
       "0   58    management  married       tertiary   unknown    5  may  261   \n",
       "1   44    technician   single      secondary   unknown    5  may  151   \n",
       "2   33  entrepreneur  married      secondary   unknown    5  may   76   \n",
       "3   47   blue-collar  married        unknown   unknown    5  may   92   \n",
       "4   33       unknown   single        unknown   unknown    5  may  198   \n",
       "\n",
       "   num_calls prev_outcome  target  \n",
       "0          1      unknown       0  \n",
       "1          1      unknown       0  \n",
       "2          1      unknown       0  \n",
       "3          1      unknown       0  \n",
       "4          1      unknown       0  "
      ]
     },
     "execution_count": 18,
     "metadata": {},
     "output_type": "execute_result"
    }
   ],
   "source": [
    "\n",
    "df.head()"
   ]
  },
  {
   "cell_type": "code",
   "execution_count": 19,
   "id": "fb7f2e1f",
   "metadata": {},
   "outputs": [
    {
     "data": {
      "text/html": [
       "<div>\n",
       "<style scoped>\n",
       "    .dataframe tbody tr th:only-of-type {\n",
       "        vertical-align: middle;\n",
       "    }\n",
       "\n",
       "    .dataframe tbody tr th {\n",
       "        vertical-align: top;\n",
       "    }\n",
       "\n",
       "    .dataframe thead th {\n",
       "        text-align: right;\n",
       "    }\n",
       "</style>\n",
       "<table border=\"1\" class=\"dataframe\">\n",
       "  <thead>\n",
       "    <tr style=\"text-align: right;\">\n",
       "      <th></th>\n",
       "      <th>age</th>\n",
       "      <th>day</th>\n",
       "      <th>dur</th>\n",
       "      <th>num_calls</th>\n",
       "      <th>target</th>\n",
       "    </tr>\n",
       "  </thead>\n",
       "  <tbody>\n",
       "    <tr>\n",
       "      <th>count</th>\n",
       "      <td>45205.000000</td>\n",
       "      <td>45205.00000</td>\n",
       "      <td>45205.000000</td>\n",
       "      <td>45205.000000</td>\n",
       "      <td>45205.000000</td>\n",
       "    </tr>\n",
       "    <tr>\n",
       "      <th>mean</th>\n",
       "      <td>40.937087</td>\n",
       "      <td>15.80688</td>\n",
       "      <td>258.183055</td>\n",
       "      <td>2.763898</td>\n",
       "      <td>0.117000</td>\n",
       "    </tr>\n",
       "    <tr>\n",
       "      <th>std</th>\n",
       "      <td>10.619130</td>\n",
       "      <td>8.32234</td>\n",
       "      <td>257.538504</td>\n",
       "      <td>3.098189</td>\n",
       "      <td>0.321424</td>\n",
       "    </tr>\n",
       "    <tr>\n",
       "      <th>min</th>\n",
       "      <td>18.000000</td>\n",
       "      <td>1.00000</td>\n",
       "      <td>0.000000</td>\n",
       "      <td>1.000000</td>\n",
       "      <td>0.000000</td>\n",
       "    </tr>\n",
       "    <tr>\n",
       "      <th>25%</th>\n",
       "      <td>33.000000</td>\n",
       "      <td>8.00000</td>\n",
       "      <td>103.000000</td>\n",
       "      <td>1.000000</td>\n",
       "      <td>0.000000</td>\n",
       "    </tr>\n",
       "    <tr>\n",
       "      <th>50%</th>\n",
       "      <td>39.000000</td>\n",
       "      <td>16.00000</td>\n",
       "      <td>180.000000</td>\n",
       "      <td>2.000000</td>\n",
       "      <td>0.000000</td>\n",
       "    </tr>\n",
       "    <tr>\n",
       "      <th>75%</th>\n",
       "      <td>48.000000</td>\n",
       "      <td>21.00000</td>\n",
       "      <td>319.000000</td>\n",
       "      <td>3.000000</td>\n",
       "      <td>0.000000</td>\n",
       "    </tr>\n",
       "    <tr>\n",
       "      <th>max</th>\n",
       "      <td>95.000000</td>\n",
       "      <td>31.00000</td>\n",
       "      <td>4918.000000</td>\n",
       "      <td>63.000000</td>\n",
       "      <td>1.000000</td>\n",
       "    </tr>\n",
       "  </tbody>\n",
       "</table>\n",
       "</div>"
      ],
      "text/plain": [
       "                age          day           dur     num_calls        target\n",
       "count  45205.000000  45205.00000  45205.000000  45205.000000  45205.000000\n",
       "mean      40.937087     15.80688    258.183055      2.763898      0.117000\n",
       "std       10.619130      8.32234    257.538504      3.098189      0.321424\n",
       "min       18.000000      1.00000      0.000000      1.000000      0.000000\n",
       "25%       33.000000      8.00000    103.000000      1.000000      0.000000\n",
       "50%       39.000000     16.00000    180.000000      2.000000      0.000000\n",
       "75%       48.000000     21.00000    319.000000      3.000000      0.000000\n",
       "max       95.000000     31.00000   4918.000000     63.000000      1.000000"
      ]
     },
     "execution_count": 19,
     "metadata": {},
     "output_type": "execute_result"
    }
   ],
   "source": [
    "\n",
    "df.describe()"
   ]
  },
  {
   "cell_type": "code",
   "execution_count": null,
   "id": "39b556e9",
   "metadata": {},
   "outputs": [],
   "source": []
  },
  {
   "cell_type": "markdown",
   "id": "2565365b",
   "metadata": {},
   "source": [
    "## Outliers"
   ]
  },
  {
   "cell_type": "code",
   "execution_count": 20,
   "id": "19bf9e3d",
   "metadata": {},
   "outputs": [
    {
     "data": {
      "image/png": "[encoded data removed]",
      "text/plain": [
       "<Figure size 2500x1000 with 4 Axes>"
      ]
     },
     "metadata": {},
     "output_type": "display_data"
    },
    {
     "data": {
      "text/plain": [
       "<Figure size 640x480 with 0 Axes>"
      ]
     },
     "metadata": {},
     "output_type": "display_data"
    }
   ],
   "source": [
    "\n",
    "# outliers detection and clip/strip\n",
    "\n",
    "plt.figure(figsize=(25,10))\n",
    "plt.subplot(331)\n",
    "sns.boxplot(df['age'], color='red')\n",
    "\n",
    "plt.subplot(332)\n",
    "sns.boxplot(df['day'], palette='Paired')\n",
    "\n",
    "plt.subplot(334)\n",
    "sns.boxplot(df['dur'], color='red')\n",
    "\n",
    "plt.subplot(335)\n",
    "sns.boxplot(df['num_calls'], color='red')\n",
    "\n",
    "plt.show()\n",
    "plt.tight_layout()"
   ]
  },
  {
   "cell_type": "code",
   "execution_count": 21,
   "id": "11d636a1",
   "metadata": {},
   "outputs": [
    {
     "name": "stdout",
     "output_type": "stream",
     "text": [
      "lower_limit = 10.5 and upper_limit = 70.5\n",
      "Total outliers in the column age is ----> 487 \n",
      "\n",
      "lower_limit = -221.0 and upper_limit = 643.0\n",
      "Total outliers in the column dur is ----> 3235 \n",
      "\n",
      "lower_limit = -2.0 and upper_limit = 6.0\n",
      "Total outliers in the column num_calls is ----> 3064 \n",
      "\n",
      "Total outliers in the column day is ----> 0 \n",
      "\n"
     ]
    }
   ],
   "source": [
    "\n",
    "# here it seems except day all three numerical datas having outliers\n",
    "outliers = []\n",
    "q1,q3 = np.percentile(df['age'],[25,75])\n",
    "iqr = q3-q1\n",
    "ul = q3 + 1.5*iqr                              # setting upper limit\n",
    "ll = q1 - 1.5*iqr                              # setting lower limit\n",
    "for i in df['age']:\n",
    "    if i>ul or i<ll:\n",
    "        outliers.append(i)\n",
    "print(f'lower_limit = {ll} and upper_limit = {ul}')\n",
    "print(f'Total outliers in the column age is ----> {len(outliers)} \\n')\n",
    "\n",
    "outliers = []\n",
    "q1,q3 = np.percentile(df['dur'],[25,75])\n",
    "iqr = q3-q1\n",
    "ul = q3 + 1.5*iqr                              # setting upper limit\n",
    "ll = q1 - 1.5*iqr                              # setting lower limit\n",
    "for i in df['dur']:\n",
    "    if i>ul or i<ll:\n",
    "        outliers.append(i)\n",
    "print(f'lower_limit = {ll} and upper_limit = {ul}')\n",
    "print(f'Total outliers in the column dur is ----> {len(outliers)} \\n')\n",
    "\n",
    "outliers = []\n",
    "q1,q3 = np.percentile(df['num_calls'],[25,75])\n",
    "iqr = q3-q1\n",
    "ul = q3 + 1.5*iqr                              # setting upper limit\n",
    "ll = q1 - 1.5*iqr                              # setting lower limit\n",
    "for i in df['num_calls']:\n",
    "    if i>ul or i<ll:\n",
    "        outliers.append(i)\n",
    "print(f'lower_limit = {ll} and upper_limit = {ul}') \n",
    "print(f'Total outliers in the column num_calls is ----> {len(outliers)} \\n')\n",
    "\n",
    "outliers = []\n",
    "q1,q3 = np.percentile(df['day'],[25,75])\n",
    "iqr = q3-q1\n",
    "ul = q3 + 1.5*iqr                              # setting upper limit\n",
    "ll = q1 - 1.5*iqr                              # setting lower limit\n",
    "for i in df['day']:\n",
    "    if i>ul or i<ll:\n",
    "        outliers.append(i)\n",
    "print(f'Total outliers in the column day is ----> {len(outliers)} \\n')"
   ]
  },
  {
   "cell_type": "raw",
   "id": "a4a442d5",
   "metadata": {},
   "source": [
    "\n",
    "-Here i have altered and set the Outlier to ( 1 - 60 ) in age column\n"
   ]
  },
  {
   "cell_type": "code",
   "execution_count": 22,
   "id": "056507b7",
   "metadata": {},
   "outputs": [],
   "source": [
    "\n",
    "#removing outlier for age column\n",
    "# Clip/ Strip is used to detuct value to lower & upper threshold.\n",
    "df.age = df.age.clip(10.5,70.5)\n",
    "\n",
    "#removing outlier for dur column\n",
    "df.dur = df.dur.clip(-221,643)\n",
    "\n",
    "#removing outlier for num_calls column\n",
    "df.num_calls = df.num_calls.clip(-2.0,6.0)"
   ]
  },
  {
   "cell_type": "code",
   "execution_count": 23,
   "id": "736400c8",
   "metadata": {},
   "outputs": [
    {
     "data": {
      "image/png": "[encoded data removed]",
      "text/plain": [
       "<Figure size 2500x1000 with 4 Axes>"
      ]
     },
     "metadata": {},
     "output_type": "display_data"
    },
    {
     "data": {
      "text/plain": [
       "<Figure size 640x480 with 0 Axes>"
      ]
     },
     "metadata": {},
     "output_type": "display_data"
    }
   ],
   "source": [
    "\n",
    "# After deletion of outliers\n",
    "\n",
    "plt.figure(figsize=(25,10))\n",
    "plt.subplot(331)\n",
    "sns.boxplot(df['age'], palette='Paired')\n",
    "\n",
    "plt.subplot(332)\n",
    "sns.boxplot(df['day'], palette='Paired')\n",
    "\n",
    "plt.subplot(334)\n",
    "sns.boxplot(df['dur'], palette='Paired')\n",
    "\n",
    "plt.subplot(335)\n",
    "sns.boxplot(df['num_calls'], palette='Paired')\n",
    "\n",
    "plt.show()\n",
    "plt.tight_layout()"
   ]
  },
  {
   "cell_type": "code",
   "execution_count": null,
   "id": "806ec612",
   "metadata": {},
   "outputs": [],
   "source": []
  },
  {
   "cell_type": "markdown",
   "id": "05ea2bcc",
   "metadata": {},
   "source": [
    "# EDA"
   ]
  },
  {
   "cell_type": "markdown",
   "id": "46decc1b",
   "metadata": {},
   "source": [
    "## Distribution Of Catergorical Features"
   ]
  },
  {
   "cell_type": "code",
   "execution_count": 24,
   "id": "e9c4b0df",
   "metadata": {},
   "outputs": [
    {
     "data": {
      "text/plain": [
       "Index(['job', 'marital', 'education_qual', 'call_type', 'mon', 'prev_outcome'], dtype='object')"
      ]
     },
     "execution_count": 24,
     "metadata": {},
     "output_type": "execute_result"
    }
   ],
   "source": [
    "\n",
    "cat_var.columns"
   ]
  },
  {
   "cell_type": "code",
   "execution_count": 25,
   "id": "dd1c1dde",
   "metadata": {},
   "outputs": [
    {
     "data": {
      "image/png": "[encoded data removed]",
      "text/plain": [
       "<Figure size 2500x2800 with 6 Axes>"
      ]
     },
     "metadata": {},
     "output_type": "display_data"
    },
    {
     "data": {
      "text/plain": [
       "<Figure size 640x480 with 0 Axes>"
      ]
     },
     "metadata": {},
     "output_type": "display_data"
    }
   ],
   "source": [
    "\n",
    "plt.figure(figsize=(25,28))\n",
    "\n",
    "plt.subplot(331)\n",
    "df['job'].value_counts().plot(kind='bar')\n",
    "plt.xticks(rotation=65)\n",
    "plt.xlabel('job')\n",
    "plt.ylabel('count of customers')\n",
    "\n",
    "plt.subplot(332)\n",
    "df['marital'].value_counts().plot(kind='bar')\n",
    "plt.xticks(rotation=15)\n",
    "plt.xlabel('marital')\n",
    "plt.ylabel('count of customers')\n",
    "\n",
    "plt.subplot(333)\n",
    "df['education_qual'].value_counts().plot(kind='bar')\n",
    "plt.xticks(rotation=15)\n",
    "plt.xlabel('education_qual')\n",
    "plt.ylabel('count of customers')\n",
    "\n",
    "plt.subplot(334)\n",
    "df['call_type'].value_counts().plot(kind='bar')\n",
    "plt.xticks(rotation=15)\n",
    "plt.xlabel('call_type')\n",
    "plt.ylabel('count of customers')\n",
    "\n",
    "plt.subplot(335)\n",
    "df['mon'].value_counts().plot(kind='bar')\n",
    "plt.xticks(rotation=15)\n",
    "plt.xlabel('mon')\n",
    "plt.ylabel('count of customers')\n",
    "\n",
    "plt.subplot(336)\n",
    "df['prev_outcome'].value_counts().plot(kind='bar')\n",
    "plt.xticks(rotation=15)\n",
    "plt.xlabel('prev_outcome')\n",
    "plt.ylabel('count of customers')\n",
    "\n",
    "plt.show()\n",
    "plt.tight_layout()"
   ]
  },
  {
   "cell_type": "markdown",
   "id": "264d477e",
   "metadata": {},
   "source": [
    "\n",
    "## From the above plots we can clearly tell the following interpretation\n",
    "\n",
    "### 1. Job\n",
    "\n",
    " - Most Target : blue-collar\n",
    " - Least Target : student\n",
    " \n",
    "### 2. Marital\n",
    "\n",
    " - Most Target : married\n",
    " - Least Target : divorced\n",
    " \n",
    "### 3. Education-qualification\n",
    "\n",
    " - Most Target : secondary\n",
    " - Least Target : primary\n",
    " \n",
    "### 4. Call_type\n",
    "\n",
    " - Most Target : cellular\n",
    " - Least Target : telephone\n",
    " \n",
    "### 5. Month\n",
    "\n",
    " - Most Target : may\n",
    " - Least Target : december\n",
    " \n",
    "### 6. Previous-outcome\n",
    "\n",
    " - Most Target : unknown\n",
    " - Least Target : success\n",
    " \n",
    " "
   ]
  },
  {
   "cell_type": "code",
   "execution_count": 26,
   "id": "68ab5482",
   "metadata": {},
   "outputs": [
    {
     "name": "stdout",
     "output_type": "stream",
     "text": [
      "The percent of unknown in job is            ---> 0.6\n",
      "\n",
      "The percent of unknown in education_qual is ---> 4.1\n",
      "\n",
      "The percent of unknown in call_type job is  ---> 28.8\n"
     ]
    }
   ],
   "source": [
    "\n",
    "# let's check the percent of unknown category present in the columns\n",
    "\n",
    "job_unknown = round((len(df[df['job']=='unknown']) / len(df)) * 100,1)\n",
    "print(f'The percent of unknown in job is            ---> {job_unknown}\\n')\n",
    "\n",
    "education_qual_unknown = round((len(df[df['education_qual']=='unknown']) / len(df)) * 100,1)\n",
    "print(f'The percent of unknown in education_qual is ---> {education_qual_unknown}\\n')\n",
    "\n",
    "call_type_unknown = round((len(df[df['call_type']=='unknown']) / len(df)) * 100,1)\n",
    "print(f'The percent of unknown in call_type job is  ---> {call_type_unknown}')\n"
   ]
  },
  {
   "cell_type": "code",
   "execution_count": 27,
   "id": "afd5c366",
   "metadata": {},
   "outputs": [],
   "source": [
    "\n",
    "# here in the column job and education_qual the percent of unknown is low so we can change it by using mode\n",
    "\n",
    "df.loc[df['job'] == 'unknown', 'job'] = df['job'].mode()[0]\n",
    "df.loc[df['education_qual'] == 'unknown','education_qual'] =df['education_qual'].mode()[0]"
   ]
  },
  {
   "cell_type": "code",
   "execution_count": null,
   "id": "b3e6e5c6",
   "metadata": {},
   "outputs": [],
   "source": []
  },
  {
   "cell_type": "markdown",
   "id": "840b3ded",
   "metadata": {},
   "source": [
    "## Distribution Of Numerical Features"
   ]
  },
  {
   "cell_type": "code",
   "execution_count": 28,
   "id": "3a16be02",
   "metadata": {},
   "outputs": [
    {
     "data": {
      "text/plain": [
       "Index(['age', 'day', 'dur', 'num_calls'], dtype='object')"
      ]
     },
     "execution_count": 28,
     "metadata": {},
     "output_type": "execute_result"
    }
   ],
   "source": [
    "\n",
    "num_var.columns"
   ]
  },
  {
   "cell_type": "code",
   "execution_count": 29,
   "id": "12a5259c",
   "metadata": {},
   "outputs": [
    {
     "data": {
      "image/png": "[encoded data removed]",
      "text/plain": [
       "<Figure size 1600x1000 with 4 Axes>"
      ]
     },
     "metadata": {},
     "output_type": "display_data"
    },
    {
     "data": {
      "text/plain": [
       "<Figure size 640x480 with 0 Axes>"
      ]
     },
     "metadata": {},
     "output_type": "display_data"
    }
   ],
   "source": [
    "\n",
    "plt.figure(figsize=(16,10))\n",
    "\n",
    "plt.subplot(331)\n",
    "sns.histplot(df['age'])\n",
    "\n",
    "plt.subplot(332)\n",
    "sns.histplot(df['day'])\n",
    "\n",
    "plt.subplot(334)\n",
    "sns.histplot(df['dur'])\n",
    "\n",
    "plt.subplot(335)\n",
    "sns.histplot(df['num_calls'])\n",
    "\n",
    "plt.show()\n",
    "plt.tight_layout()"
   ]
  },
  {
   "cell_type": "markdown",
   "id": "31e77e01",
   "metadata": {},
   "source": [
    "\n",
    "## From the above plots we can clearly tell the following interpretation\n",
    "\n",
    "### 1. Age\n",
    "\n",
    " - Most Target : 30 to 40 years\n",
    " - Least Target : belove 20 and above 60\n",
    " \n",
    "### 2. Day\n",
    "\n",
    " - Most Target : mid of the month \n",
    " - Least Target : beginning of the month\n",
    " \n",
    "### 3. Duration\n",
    "\n",
    " - Most Target : around 30 mins\n",
    " - Least Target : around 100 to 200 seconds\n",
    " \n",
    "### 4. Number-Of-Calls\n",
    "\n",
    " - Most Target : most people contacted 1 time\n",
    " - Least Target : contacted 5 times\n",
    " "
   ]
  },
  {
   "cell_type": "code",
   "execution_count": null,
   "id": "fb16ad3a",
   "metadata": {},
   "outputs": [],
   "source": []
  },
  {
   "cell_type": "markdown",
   "id": "56cdba66",
   "metadata": {},
   "source": [
    "## Distribution Of Categorical Features And Targets"
   ]
  },
  {
   "cell_type": "code",
   "execution_count": 30,
   "id": "694381e5",
   "metadata": {},
   "outputs": [
    {
     "data": {
      "text/plain": [
       "Index(['job', 'marital', 'education_qual', 'call_type', 'mon', 'prev_outcome'], dtype='object')"
      ]
     },
     "execution_count": 30,
     "metadata": {},
     "output_type": "execute_result"
    }
   ],
   "source": [
    "\n",
    "cat_var.columns"
   ]
  },
  {
   "cell_type": "code",
   "execution_count": 31,
   "id": "b246bc27",
   "metadata": {},
   "outputs": [],
   "source": [
    "\n",
    "job_order = df['job'].value_counts().index[::-1]\n",
    "marital_order = df['marital'].value_counts().index[::-1]\n",
    "education_qual_order = df['education_qual'].value_counts().index[::-1]\n",
    "call_type_order = df['call_type'].value_counts().index[::-1]\n",
    "mon_order = df['mon'].value_counts().index[::-1]\n",
    "prev_outcome_order = df['prev_outcome'].value_counts().index[::-1]"
   ]
  },
  {
   "cell_type": "code",
   "execution_count": 32,
   "id": "a347aa51",
   "metadata": {},
   "outputs": [
    {
     "data": {
      "image/png": "[encoded data removed]",
      "text/plain": [
       "<Figure size 2600x2500 with 6 Axes>"
      ]
     },
     "metadata": {},
     "output_type": "display_data"
    },
    {
     "data": {
      "text/plain": [
       "<Figure size 640x480 with 0 Axes>"
      ]
     },
     "metadata": {},
     "output_type": "display_data"
    }
   ],
   "source": [
    "\n",
    "plt.figure(figsize=(26,25))\n",
    "\n",
    "plt.subplot(331)\n",
    "sns.countplot(x='job', hue='target', data=df, order=job_order)\n",
    "plt.xticks(rotation=55)\n",
    "plt.title('JOB VS TARGET')\n",
    "\n",
    "plt.subplot(332)\n",
    "sns.countplot(x='marital', hue='target', data=df, order=marital_order)\n",
    "plt.xticks(rotation=15)\n",
    "plt.title('MARITAL VS TARGET')\n",
    "\n",
    "plt.subplot(333)\n",
    "sns.countplot(x='education_qual', hue='target', data=df, order=education_qual_order)\n",
    "plt.xticks(rotation=15)\n",
    "plt.title('EDUCATION_QUALIFICATION VS TARGET')\n",
    "\n",
    "plt.subplot(334)\n",
    "sns.countplot(x='call_type', hue='target', data=df, order=call_type_order)\n",
    "plt.xticks(rotation=15)\n",
    "plt.title('CALL_TYPE VS TARGET')\n",
    "\n",
    "plt.subplot(335)\n",
    "sns.countplot(x='mon', hue='target', data=df, order=mon_order)\n",
    "plt.xticks(rotation=15)\n",
    "plt.title('MONTH VS TARGET')\n",
    "\n",
    "plt.subplot(336)\n",
    "sns.countplot(x='prev_outcome', hue='target', data=df, order=prev_outcome_order)\n",
    "plt.xticks(rotation=15)\n",
    "plt.title('PREVIOUS_OUTCOME VS TARGET')\n",
    "\n",
    "plt.show()\n",
    "plt.tight_layout()"
   ]
  },
  {
   "cell_type": "markdown",
   "id": "2f258571",
   "metadata": {},
   "source": [
    "\n",
    "## From the above plots we can clearly tell the following interpretation\n",
    "\n",
    "### 1. Job Vs Target\n",
    "\n",
    " - Target (No)    : Blue Collar\n",
    " - Suscribed (Yes): Management\n",
    " \n",
    "### 2. Marital Vs Target\n",
    "\n",
    " - Target (No)    : married\n",
    " - Suscribed (Yes): married\n",
    " \n",
    "### 3. Education-qualification Vs Target\n",
    "\n",
    " - Target (No)    : secondary\n",
    " - Suscribed (Yes): secondary\n",
    " \n",
    "### 4. Call_type Vs Target\n",
    "\n",
    " - Target (No)    : cellular\n",
    " - Suscribed (Yes): cellular\n",
    " \n",
    "### 5. Month Vs Target\n",
    "\n",
    " - Target (No)    : may\n",
    " - Suscribed (Yes): may\n",
    " \n",
    "### 6. Previous-outcome Vs Target\n",
    "\n",
    " - Target (No)    : unknown\n",
    " - Suscribed (Yes): unknown\n",
    " "
   ]
  },
  {
   "cell_type": "code",
   "execution_count": null,
   "id": "36141392",
   "metadata": {},
   "outputs": [],
   "source": []
  },
  {
   "cell_type": "markdown",
   "id": "89f56d4f",
   "metadata": {},
   "source": [
    "## Distribution Of Numerical Features And Target"
   ]
  },
  {
   "cell_type": "code",
   "execution_count": 33,
   "id": "48d0757f",
   "metadata": {},
   "outputs": [
    {
     "data": {
      "text/plain": [
       "Index(['age', 'day', 'dur', 'num_calls'], dtype='object')"
      ]
     },
     "execution_count": 33,
     "metadata": {},
     "output_type": "execute_result"
    }
   ],
   "source": [
    "\n",
    "num_var.columns"
   ]
  },
  {
   "cell_type": "code",
   "execution_count": 34,
   "id": "0d65d5fe",
   "metadata": {},
   "outputs": [
    {
     "data": {
      "image/png": "[encoded data removed]",
      "text/plain": [
       "<Figure size 1600x1000 with 4 Axes>"
      ]
     },
     "metadata": {},
     "output_type": "display_data"
    },
    {
     "data": {
      "text/plain": [
       "<Figure size 640x480 with 0 Axes>"
      ]
     },
     "metadata": {},
     "output_type": "display_data"
    }
   ],
   "source": [
    "\n",
    "plt.figure(figsize=(16,10))\n",
    "\n",
    "plt.subplot(331)\n",
    "sns.histplot(x='age', hue='target', data=df)\n",
    "\n",
    "plt.subplot(332)\n",
    "sns.histplot(x='day', hue='target', data=df)\n",
    "\n",
    "plt.subplot(334)\n",
    "sns.histplot(x='dur', hue='target', data=df)\n",
    "\n",
    "plt.subplot(335)\n",
    "sns.histplot(x='num_calls', hue='target', data=df)\n",
    "\n",
    "plt.show()\n",
    "plt.tight_layout()"
   ]
  },
  {
   "cell_type": "markdown",
   "id": "55cd5b4e",
   "metadata": {},
   "source": [
    "\n",
    "## From the above plots we can clearly tell the following interpretation\n",
    "\n",
    "### 1. Age Vs Target\n",
    "\n",
    " - Target (No)    : middle-age people\n",
    " - Suscribed (Yes): middle-age people\n",
    " \n",
    "### 2. Day Vs Target\n",
    "\n",
    " - Target (No)    : mid of the month\n",
    " - Suscribed (Yes): mid of the month\n",
    " \n",
    "### 3. Number-Of-Calls Vs Target\n",
    "\n",
    " - Target (No)    : people who called only 1 time\n",
    " - Suscribed (Yes): people who called only 1 time\n",
    " "
   ]
  },
  {
   "cell_type": "code",
   "execution_count": null,
   "id": "6a450381",
   "metadata": {},
   "outputs": [],
   "source": []
  },
  {
   "cell_type": "markdown",
   "id": "f78ef881",
   "metadata": {},
   "source": [
    "# Encoding"
   ]
  },
  {
   "cell_type": "raw",
   "id": "26ebc6e9",
   "metadata": {},
   "source": [
    "\n",
    "- From the above distribution we can decide what kind of encoding we need to do.\n",
    "- LABEL ENCODING -> job, marital, education_qual, call_type, mon\n",
    "- ONE HOT ENCODING -> prev_outcome\n"
   ]
  },
  {
   "cell_type": "code",
   "execution_count": 35,
   "id": "0355fd47",
   "metadata": {},
   "outputs": [],
   "source": [
    "\n",
    "# We're doing label encoding because thers's an order\n",
    "\n",
    "df['marital'] = df['marital'].map({'divorced':0,'single':1,'married':2})\n",
    "df['education_qual'] = df['education_qual'].map({'primary':0,'tertiary':2,'secondary':3})\n",
    "df['call_type'] = df['call_type'].map({'telephone':0,'unknown':1,'cellular':2})\n",
    "df['mon'] = df['mon'].map({'dec':0,'mar':1,'sep':2,'oct':3,'jan':4,'feb':5,'apr':6,'nov':7,'jun':8,'aug':9,'jul':10,'may':11})\n",
    "\n",
    "# Here i'm using onehot encoding because no order in this column\n",
    "\n",
    "df = pd.get_dummies(df,columns =['prev_outcome','job'])"
   ]
  },
  {
   "cell_type": "code",
   "execution_count": 36,
   "id": "b5b492a0",
   "metadata": {},
   "outputs": [
    {
     "data": {
      "text/html": [
       "<div>\n",
       "<style scoped>\n",
       "    .dataframe tbody tr th:only-of-type {\n",
       "        vertical-align: middle;\n",
       "    }\n",
       "\n",
       "    .dataframe tbody tr th {\n",
       "        vertical-align: top;\n",
       "    }\n",
       "\n",
       "    .dataframe thead th {\n",
       "        text-align: right;\n",
       "    }\n",
       "</style>\n",
       "<table border=\"1\" class=\"dataframe\">\n",
       "  <thead>\n",
       "    <tr style=\"text-align: right;\">\n",
       "      <th></th>\n",
       "      <th>age</th>\n",
       "      <th>marital</th>\n",
       "      <th>education_qual</th>\n",
       "      <th>call_type</th>\n",
       "      <th>day</th>\n",
       "      <th>mon</th>\n",
       "      <th>dur</th>\n",
       "      <th>num_calls</th>\n",
       "      <th>target</th>\n",
       "      <th>prev_outcome_failure</th>\n",
       "      <th>prev_outcome_other</th>\n",
       "      <th>prev_outcome_success</th>\n",
       "      <th>prev_outcome_unknown</th>\n",
       "      <th>job_admin.</th>\n",
       "      <th>job_blue-collar</th>\n",
       "      <th>job_entrepreneur</th>\n",
       "      <th>job_housemaid</th>\n",
       "      <th>job_management</th>\n",
       "      <th>job_retired</th>\n",
       "      <th>job_self-employed</th>\n",
       "      <th>job_services</th>\n",
       "      <th>job_student</th>\n",
       "      <th>job_technician</th>\n",
       "      <th>job_unemployed</th>\n",
       "    </tr>\n",
       "  </thead>\n",
       "  <tbody>\n",
       "    <tr>\n",
       "      <th>0</th>\n",
       "      <td>58.0</td>\n",
       "      <td>2</td>\n",
       "      <td>2</td>\n",
       "      <td>1</td>\n",
       "      <td>5</td>\n",
       "      <td>11</td>\n",
       "      <td>261</td>\n",
       "      <td>1</td>\n",
       "      <td>0</td>\n",
       "      <td>0</td>\n",
       "      <td>0</td>\n",
       "      <td>0</td>\n",
       "      <td>1</td>\n",
       "      <td>0</td>\n",
       "      <td>0</td>\n",
       "      <td>0</td>\n",
       "      <td>0</td>\n",
       "      <td>1</td>\n",
       "      <td>0</td>\n",
       "      <td>0</td>\n",
       "      <td>0</td>\n",
       "      <td>0</td>\n",
       "      <td>0</td>\n",
       "      <td>0</td>\n",
       "    </tr>\n",
       "    <tr>\n",
       "      <th>1</th>\n",
       "      <td>44.0</td>\n",
       "      <td>1</td>\n",
       "      <td>3</td>\n",
       "      <td>1</td>\n",
       "      <td>5</td>\n",
       "      <td>11</td>\n",
       "      <td>151</td>\n",
       "      <td>1</td>\n",
       "      <td>0</td>\n",
       "      <td>0</td>\n",
       "      <td>0</td>\n",
       "      <td>0</td>\n",
       "      <td>1</td>\n",
       "      <td>0</td>\n",
       "      <td>0</td>\n",
       "      <td>0</td>\n",
       "      <td>0</td>\n",
       "      <td>0</td>\n",
       "      <td>0</td>\n",
       "      <td>0</td>\n",
       "      <td>0</td>\n",
       "      <td>0</td>\n",
       "      <td>1</td>\n",
       "      <td>0</td>\n",
       "    </tr>\n",
       "    <tr>\n",
       "      <th>2</th>\n",
       "      <td>33.0</td>\n",
       "      <td>2</td>\n",
       "      <td>3</td>\n",
       "      <td>1</td>\n",
       "      <td>5</td>\n",
       "      <td>11</td>\n",
       "      <td>76</td>\n",
       "      <td>1</td>\n",
       "      <td>0</td>\n",
       "      <td>0</td>\n",
       "      <td>0</td>\n",
       "      <td>0</td>\n",
       "      <td>1</td>\n",
       "      <td>0</td>\n",
       "      <td>0</td>\n",
       "      <td>1</td>\n",
       "      <td>0</td>\n",
       "      <td>0</td>\n",
       "      <td>0</td>\n",
       "      <td>0</td>\n",
       "      <td>0</td>\n",
       "      <td>0</td>\n",
       "      <td>0</td>\n",
       "      <td>0</td>\n",
       "    </tr>\n",
       "    <tr>\n",
       "      <th>3</th>\n",
       "      <td>47.0</td>\n",
       "      <td>2</td>\n",
       "      <td>3</td>\n",
       "      <td>1</td>\n",
       "      <td>5</td>\n",
       "      <td>11</td>\n",
       "      <td>92</td>\n",
       "      <td>1</td>\n",
       "      <td>0</td>\n",
       "      <td>0</td>\n",
       "      <td>0</td>\n",
       "      <td>0</td>\n",
       "      <td>1</td>\n",
       "      <td>0</td>\n",
       "      <td>1</td>\n",
       "      <td>0</td>\n",
       "      <td>0</td>\n",
       "      <td>0</td>\n",
       "      <td>0</td>\n",
       "      <td>0</td>\n",
       "      <td>0</td>\n",
       "      <td>0</td>\n",
       "      <td>0</td>\n",
       "      <td>0</td>\n",
       "    </tr>\n",
       "    <tr>\n",
       "      <th>4</th>\n",
       "      <td>33.0</td>\n",
       "      <td>1</td>\n",
       "      <td>3</td>\n",
       "      <td>1</td>\n",
       "      <td>5</td>\n",
       "      <td>11</td>\n",
       "      <td>198</td>\n",
       "      <td>1</td>\n",
       "      <td>0</td>\n",
       "      <td>0</td>\n",
       "      <td>0</td>\n",
       "      <td>0</td>\n",
       "      <td>1</td>\n",
       "      <td>0</td>\n",
       "      <td>1</td>\n",
       "      <td>0</td>\n",
       "      <td>0</td>\n",
       "      <td>0</td>\n",
       "      <td>0</td>\n",
       "      <td>0</td>\n",
       "      <td>0</td>\n",
       "      <td>0</td>\n",
       "      <td>0</td>\n",
       "      <td>0</td>\n",
       "    </tr>\n",
       "  </tbody>\n",
       "</table>\n",
       "</div>"
      ],
      "text/plain": [
       "    age  marital  education_qual  call_type  day  mon  dur  num_calls  target  \\\n",
       "0  58.0        2               2          1    5   11  261          1       0   \n",
       "1  44.0        1               3          1    5   11  151          1       0   \n",
       "2  33.0        2               3          1    5   11   76          1       0   \n",
       "3  47.0        2               3          1    5   11   92          1       0   \n",
       "4  33.0        1               3          1    5   11  198          1       0   \n",
       "\n",
       "   prev_outcome_failure  prev_outcome_other  prev_outcome_success  \\\n",
       "0                     0                   0                     0   \n",
       "1                     0                   0                     0   \n",
       "2                     0                   0                     0   \n",
       "3                     0                   0                     0   \n",
       "4                     0                   0                     0   \n",
       "\n",
       "   prev_outcome_unknown  job_admin.  job_blue-collar  job_entrepreneur  \\\n",
       "0                     1           0                0                 0   \n",
       "1                     1           0                0                 0   \n",
       "2                     1           0                0                 1   \n",
       "3                     1           0                1                 0   \n",
       "4                     1           0                1                 0   \n",
       "\n",
       "   job_housemaid  job_management  job_retired  job_self-employed  \\\n",
       "0              0               1            0                  0   \n",
       "1              0               0            0                  0   \n",
       "2              0               0            0                  0   \n",
       "3              0               0            0                  0   \n",
       "4              0               0            0                  0   \n",
       "\n",
       "   job_services  job_student  job_technician  job_unemployed  \n",
       "0             0            0               0               0  \n",
       "1             0            0               1               0  \n",
       "2             0            0               0               0  \n",
       "3             0            0               0               0  \n",
       "4             0            0               0               0  "
      ]
     },
     "execution_count": 36,
     "metadata": {},
     "output_type": "execute_result"
    }
   ],
   "source": [
    "\n",
    "df.head()"
   ]
  },
  {
   "cell_type": "code",
   "execution_count": null,
   "id": "b2b743a6",
   "metadata": {},
   "outputs": [],
   "source": []
  },
  {
   "cell_type": "markdown",
   "id": "033f3375",
   "metadata": {},
   "source": [
    "# Splitting for training and testing"
   ]
  },
  {
   "cell_type": "code",
   "execution_count": 37,
   "id": "7d288e48",
   "metadata": {},
   "outputs": [],
   "source": [
    "\n",
    "from sklearn.model_selection import train_test_split\n",
    "\n",
    "x = df.drop('target',axis = 1).values\n",
    "y = df['target'].values\n",
    "\n",
    "x_train, x_test, y_train, y_test = train_test_split(x,y, test_size=0.2, random_state=42)"
   ]
  },
  {
   "cell_type": "raw",
   "id": "d6d33abd",
   "metadata": {},
   "source": [
    "\n",
    "-It is an Imbalanced dataset let's use SMOTEEN to make it balanced.\n"
   ]
  },
  {
   "cell_type": "markdown",
   "id": "4dfc802f",
   "metadata": {},
   "source": [
    "\n",
    "## Balancing"
   ]
  },
  {
   "cell_type": "code",
   "execution_count": 38,
   "id": "208dabfd",
   "metadata": {},
   "outputs": [],
   "source": [
    "\n",
    "from imblearn.combine import SMOTEENN              \n",
    "\n",
    "smt = SMOTEENN(sampling_strategy='all')\n",
    "x_train_smt, y_train_smt = smt.fit_resample(x_train, y_train)"
   ]
  },
  {
   "cell_type": "code",
   "execution_count": 39,
   "id": "350ee096",
   "metadata": {},
   "outputs": [
    {
     "name": "stdout",
     "output_type": "stream",
     "text": [
      "54090\n",
      "54090\n"
     ]
    }
   ],
   "source": [
    "\n",
    "print(len(x_train_smt))\n",
    "print(len(y_train_smt))"
   ]
  },
  {
   "cell_type": "code",
   "execution_count": null,
   "id": "13d89882",
   "metadata": {},
   "outputs": [],
   "source": []
  },
  {
   "cell_type": "markdown",
   "id": "72787ec1",
   "metadata": {},
   "source": [
    "# MODELS"
   ]
  },
  {
   "cell_type": "markdown",
   "id": "fb942fac",
   "metadata": {},
   "source": [
    "\n",
    "## Logistic regression"
   ]
  },
  {
   "cell_type": "code",
   "execution_count": 40,
   "id": "7744aa59",
   "metadata": {},
   "outputs": [
    {
     "data": {
      "text/plain": [
       "array([[0.48231713, 0.51768287],\n",
       "       [0.93190737, 0.06809263],\n",
       "       [0.74436399, 0.25563601],\n",
       "       ...,\n",
       "       [0.07898959, 0.92101041],\n",
       "       [0.96389459, 0.03610541],\n",
       "       [0.03718264, 0.96281736]])"
      ]
     },
     "execution_count": 40,
     "metadata": {},
     "output_type": "execute_result"
    }
   ],
   "source": [
    "\n",
    "warnings.filterwarnings(action='ignore',category=ConvergenceWarning)\n",
    "from sklearn.linear_model import LogisticRegression\n",
    "\n",
    "lr = LogisticRegression()\n",
    "lr.fit(x_train_smt, y_train_smt)\n",
    "y_pred = lr.predict_proba(x_test)\n",
    "y_pred"
   ]
  },
  {
   "cell_type": "code",
   "execution_count": 41,
   "id": "e1a105d7",
   "metadata": {},
   "outputs": [
    {
     "name": "stdout",
     "output_type": "stream",
     "text": [
      "CV score for logistic regression model : 0.8810870770937326\n"
     ]
    }
   ],
   "source": [
    "\n",
    "# cross value score for lr\n",
    "\n",
    "from sklearn.model_selection import cross_val_score\n",
    "lr_cv_score = cross_val_score(lr, x_train_smt, y_train_smt, cv=10).mean()\n",
    "print(\"CV score for logistic regression model :\",lr_cv_score)"
   ]
  },
  {
   "cell_type": "code",
   "execution_count": 42,
   "id": "1355640f",
   "metadata": {},
   "outputs": [
    {
     "name": "stdout",
     "output_type": "stream",
     "text": [
      "Accuracy score for logistic regression model : 0.7558898351952218\n"
     ]
    }
   ],
   "source": [
    "\n",
    "from sklearn.metrics import f1_score, roc_auc_score, accuracy_score\n",
    "\n",
    "y_pred = lr.predict(x_test)\n",
    "lr_acc_score = accuracy_score(y_test,y_pred)\n",
    "print(\"Accuracy score for logistic regression model :\",lr_acc_score)"
   ]
  },
  {
   "cell_type": "code",
   "execution_count": 43,
   "id": "079cadbd",
   "metadata": {},
   "outputs": [
    {
     "name": "stdout",
     "output_type": "stream",
     "text": [
      "F1 score for logistic regression model : 0.45760629147210613\n"
     ]
    }
   ],
   "source": [
    "\n",
    "# let's find the f1 score\n",
    "\n",
    "y_pred_labels = (y_pred>0.5).astype(int)\n",
    "lr_f1_score = f1_score(y_test, y_pred_labels)\n",
    "print(\"F1 score for logistic regression model :\",lr_f1_score)"
   ]
  },
  {
   "cell_type": "code",
   "execution_count": 44,
   "id": "fd2a8f67",
   "metadata": {},
   "outputs": [
    {
     "name": "stdout",
     "output_type": "stream",
     "text": [
      "AUROC score for logistic regression model : 0.7996617136216262\n"
     ]
    }
   ],
   "source": [
    "\n",
    "# auroc score\n",
    "\n",
    "lr_auroc_score = roc_auc_score(y_test, y_pred_labels)\n",
    "print(\"AUROC score for logistic regression model :\",lr_auroc_score)"
   ]
  },
  {
   "cell_type": "code",
   "execution_count": null,
   "id": "6ce6131c",
   "metadata": {},
   "outputs": [],
   "source": []
  },
  {
   "cell_type": "markdown",
   "id": "4f3730f9",
   "metadata": {},
   "source": [
    "# KNN"
   ]
  },
  {
   "cell_type": "code",
   "execution_count": 45,
   "id": "513c1f87",
   "metadata": {},
   "outputs": [],
   "source": [
    "\n",
    "# in this model it's mandatory to scale the data.\n",
    "\n",
    "from sklearn.neighbors import KNeighborsClassifier\n",
    "from sklearn.preprocessing import StandardScaler\n",
    "from sklearn.model_selection import cross_val_score\n",
    "\n",
    "standardscalar = StandardScaler()\n",
    "standardscalar.fit(x_train_smt)\n",
    "x_train_scaled = standardscalar.transform(x_train_smt)\n",
    "x_test_scaled = standardscalar.transform(x_test)\n",
    "\n",
    "knn_values = np.arange(1,20,2)\n",
    "knn_cross_value = []\n",
    "for k in knn_values:\n",
    "    knn_class = KNeighborsClassifier(n_neighbors=k)\n",
    "    knn_class.fit(x_train_scaled, y_train_smt)\n",
    "    knn_score = knn_class.score(x_train_scaled, y_train_smt)\n",
    "    cv_score = cross_val_score(knn_class, x_train_scaled, y_train_smt,cv=10).mean()\n",
    "    result = {\n",
    "        'k_value':k,\n",
    "        'train_score':knn_score,\n",
    "        'cross_val_score':cv_score\n",
    "    }\n",
    "    knn_cross_value.append(result)\n",
    "m1 = pd.DataFrame(knn_cross_value)   "
   ]
  },
  {
   "cell_type": "code",
   "execution_count": 46,
   "id": "f4aced05",
   "metadata": {},
   "outputs": [
    {
     "data": {
      "text/html": [
       "<div>\n",
       "<style scoped>\n",
       "    .dataframe tbody tr th:only-of-type {\n",
       "        vertical-align: middle;\n",
       "    }\n",
       "\n",
       "    .dataframe tbody tr th {\n",
       "        vertical-align: top;\n",
       "    }\n",
       "\n",
       "    .dataframe thead th {\n",
       "        text-align: right;\n",
       "    }\n",
       "</style>\n",
       "<table border=\"1\" class=\"dataframe\">\n",
       "  <thead>\n",
       "    <tr style=\"text-align: right;\">\n",
       "      <th></th>\n",
       "      <th>k_value</th>\n",
       "      <th>train_score</th>\n",
       "      <th>cross_val_score</th>\n",
       "    </tr>\n",
       "  </thead>\n",
       "  <tbody>\n",
       "    <tr>\n",
       "      <th>0</th>\n",
       "      <td>1</td>\n",
       "      <td>1.000000</td>\n",
       "      <td>0.973026</td>\n",
       "    </tr>\n",
       "    <tr>\n",
       "      <th>1</th>\n",
       "      <td>3</td>\n",
       "      <td>0.981845</td>\n",
       "      <td>0.959882</td>\n",
       "    </tr>\n",
       "    <tr>\n",
       "      <th>2</th>\n",
       "      <td>5</td>\n",
       "      <td>0.972121</td>\n",
       "      <td>0.951322</td>\n",
       "    </tr>\n",
       "    <tr>\n",
       "      <th>3</th>\n",
       "      <td>7</td>\n",
       "      <td>0.963616</td>\n",
       "      <td>0.945018</td>\n",
       "    </tr>\n",
       "    <tr>\n",
       "      <th>4</th>\n",
       "      <td>9</td>\n",
       "      <td>0.956961</td>\n",
       "      <td>0.940525</td>\n",
       "    </tr>\n",
       "    <tr>\n",
       "      <th>5</th>\n",
       "      <td>11</td>\n",
       "      <td>0.951562</td>\n",
       "      <td>0.935922</td>\n",
       "    </tr>\n",
       "    <tr>\n",
       "      <th>6</th>\n",
       "      <td>13</td>\n",
       "      <td>0.945831</td>\n",
       "      <td>0.932834</td>\n",
       "    </tr>\n",
       "    <tr>\n",
       "      <th>7</th>\n",
       "      <td>15</td>\n",
       "      <td>0.942577</td>\n",
       "      <td>0.930690</td>\n",
       "    </tr>\n",
       "    <tr>\n",
       "      <th>8</th>\n",
       "      <td>17</td>\n",
       "      <td>0.940174</td>\n",
       "      <td>0.927048</td>\n",
       "    </tr>\n",
       "    <tr>\n",
       "      <th>9</th>\n",
       "      <td>19</td>\n",
       "      <td>0.936606</td>\n",
       "      <td>0.924958</td>\n",
       "    </tr>\n",
       "  </tbody>\n",
       "</table>\n",
       "</div>"
      ],
      "text/plain": [
       "   k_value  train_score  cross_val_score\n",
       "0        1     1.000000         0.973026\n",
       "1        3     0.981845         0.959882\n",
       "2        5     0.972121         0.951322\n",
       "3        7     0.963616         0.945018\n",
       "4        9     0.956961         0.940525\n",
       "5       11     0.951562         0.935922\n",
       "6       13     0.945831         0.932834\n",
       "7       15     0.942577         0.930690\n",
       "8       17     0.940174         0.927048\n",
       "9       19     0.936606         0.924958"
      ]
     },
     "execution_count": 46,
     "metadata": {},
     "output_type": "execute_result"
    }
   ],
   "source": [
    "m1"
   ]
  },
  {
   "cell_type": "code",
   "execution_count": 47,
   "id": "635a752d",
   "metadata": {},
   "outputs": [
    {
     "name": "stdout",
     "output_type": "stream",
     "text": [
      "Best K value is : 1       Corresponding cross value score is : 0.9730264374191163\n"
     ]
    }
   ],
   "source": [
    "\n",
    "best_row = m1.loc[m1['cross_val_score'].idxmax()]\n",
    "knn_cv_score = best_row['cross_val_score']\n",
    "print(\"Best K value is :\",int(best_row['k_value']),\"      Corresponding cross value score is :\",knn_cv_score)"
   ]
  },
  {
   "cell_type": "code",
   "execution_count": 48,
   "id": "3412f8bd",
   "metadata": {},
   "outputs": [
    {
     "name": "stdout",
     "output_type": "stream",
     "text": [
      "Accuracy score for KNN classification model : 0.8314345758212587\n"
     ]
    }
   ],
   "source": [
    "\n",
    "# accuracy score for knn model\n",
    "\n",
    "y_pred = knn_class.predict(x_test_scaled)\n",
    "knn_acc_score = accuracy_score(y_test,y_pred)\n",
    "print(\"Accuracy score for KNN classification model :\",knn_acc_score)"
   ]
  },
  {
   "cell_type": "code",
   "execution_count": 49,
   "id": "758bbcd9",
   "metadata": {},
   "outputs": [
    {
     "name": "stdout",
     "output_type": "stream",
     "text": [
      "F1 score for KNN classification model : 0.519242902208202\n"
     ]
    }
   ],
   "source": [
    "\n",
    "# f1 score for knn model\n",
    "\n",
    "y_pred = knn_class.predict(x_test_scaled)\n",
    "knn_f1_score = f1_score(y_test, y_pred)\n",
    "print(\"F1 score for KNN classification model :\",knn_f1_score)"
   ]
  },
  {
   "cell_type": "code",
   "execution_count": 50,
   "id": "51c2216a",
   "metadata": {},
   "outputs": [
    {
     "name": "stdout",
     "output_type": "stream",
     "text": [
      "AUROC score for KNN classification model : 0.7996551157350335\n"
     ]
    }
   ],
   "source": [
    "\n",
    "# auroc score for knn model\n",
    "\n",
    "y_pred = knn_class.predict(x_test_scaled)\n",
    "knn_auroc_score = roc_auc_score(y_test, y_pred)\n",
    "print(\"AUROC score for KNN classification model :\",knn_auroc_score)"
   ]
  },
  {
   "cell_type": "code",
   "execution_count": null,
   "id": "0fdf74f8",
   "metadata": {},
   "outputs": [],
   "source": []
  },
  {
   "cell_type": "markdown",
   "id": "95acc925",
   "metadata": {},
   "source": [
    "# Decision Tree"
   ]
  },
  {
   "cell_type": "code",
   "execution_count": 51,
   "id": "4bfa83d5",
   "metadata": {},
   "outputs": [],
   "source": [
    "\n",
    "from sklearn.tree import DecisionTreeClassifier\n",
    "\n",
    "dt_cross_value = []\n",
    "for depth in range(1,30):\n",
    "    dt_class = DecisionTreeClassifier(max_depth=depth, random_state=42)\n",
    "    dt_class.fit(x_train_smt, y_train_smt)\n",
    "    dt_score = dt_class.score(x_train_smt, y_train_smt)\n",
    "    cv_score = cross_val_score(dt_class, x_train_smt, y_train_smt, cv=10).mean()\n",
    "    result = {'depth':depth,\n",
    "             'train_score':dt_score,\n",
    "             'cross_value_score':cv_score}\n",
    "    dt_cross_value.append(result)\n",
    "m2 = pd.DataFrame(dt_cross_value)"
   ]
  },
  {
   "cell_type": "code",
   "execution_count": 52,
   "id": "66b4b681",
   "metadata": {},
   "outputs": [
    {
     "data": {
      "text/html": [
       "<div>\n",
       "<style scoped>\n",
       "    .dataframe tbody tr th:only-of-type {\n",
       "        vertical-align: middle;\n",
       "    }\n",
       "\n",
       "    .dataframe tbody tr th {\n",
       "        vertical-align: top;\n",
       "    }\n",
       "\n",
       "    .dataframe thead th {\n",
       "        text-align: right;\n",
       "    }\n",
       "</style>\n",
       "<table border=\"1\" class=\"dataframe\">\n",
       "  <thead>\n",
       "    <tr style=\"text-align: right;\">\n",
       "      <th></th>\n",
       "      <th>depth</th>\n",
       "      <th>train_score</th>\n",
       "      <th>cross_value_score</th>\n",
       "    </tr>\n",
       "  </thead>\n",
       "  <tbody>\n",
       "    <tr>\n",
       "      <th>0</th>\n",
       "      <td>1</td>\n",
       "      <td>0.788593</td>\n",
       "      <td>0.787909</td>\n",
       "    </tr>\n",
       "    <tr>\n",
       "      <th>1</th>\n",
       "      <td>2</td>\n",
       "      <td>0.826345</td>\n",
       "      <td>0.825199</td>\n",
       "    </tr>\n",
       "    <tr>\n",
       "      <th>2</th>\n",
       "      <td>3</td>\n",
       "      <td>0.861287</td>\n",
       "      <td>0.861435</td>\n",
       "    </tr>\n",
       "    <tr>\n",
       "      <th>3</th>\n",
       "      <td>4</td>\n",
       "      <td>0.902108</td>\n",
       "      <td>0.901109</td>\n",
       "    </tr>\n",
       "    <tr>\n",
       "      <th>4</th>\n",
       "      <td>5</td>\n",
       "      <td>0.914032</td>\n",
       "      <td>0.909004</td>\n",
       "    </tr>\n",
       "    <tr>\n",
       "      <th>5</th>\n",
       "      <td>6</td>\n",
       "      <td>0.926511</td>\n",
       "      <td>0.924589</td>\n",
       "    </tr>\n",
       "    <tr>\n",
       "      <th>6</th>\n",
       "      <td>7</td>\n",
       "      <td>0.935385</td>\n",
       "      <td>0.928693</td>\n",
       "    </tr>\n",
       "    <tr>\n",
       "      <th>7</th>\n",
       "      <td>8</td>\n",
       "      <td>0.946700</td>\n",
       "      <td>0.935977</td>\n",
       "    </tr>\n",
       "    <tr>\n",
       "      <th>8</th>\n",
       "      <td>9</td>\n",
       "      <td>0.954335</td>\n",
       "      <td>0.943465</td>\n",
       "    </tr>\n",
       "    <tr>\n",
       "      <th>9</th>\n",
       "      <td>10</td>\n",
       "      <td>0.961065</td>\n",
       "      <td>0.944223</td>\n",
       "    </tr>\n",
       "    <tr>\n",
       "      <th>10</th>\n",
       "      <td>11</td>\n",
       "      <td>0.968072</td>\n",
       "      <td>0.948771</td>\n",
       "    </tr>\n",
       "    <tr>\n",
       "      <th>11</th>\n",
       "      <td>12</td>\n",
       "      <td>0.975744</td>\n",
       "      <td>0.951137</td>\n",
       "    </tr>\n",
       "    <tr>\n",
       "      <th>12</th>\n",
       "      <td>13</td>\n",
       "      <td>0.981845</td>\n",
       "      <td>0.953060</td>\n",
       "    </tr>\n",
       "    <tr>\n",
       "      <th>13</th>\n",
       "      <td>14</td>\n",
       "      <td>0.985376</td>\n",
       "      <td>0.953836</td>\n",
       "    </tr>\n",
       "    <tr>\n",
       "      <th>14</th>\n",
       "      <td>15</td>\n",
       "      <td>0.989185</td>\n",
       "      <td>0.954428</td>\n",
       "    </tr>\n",
       "    <tr>\n",
       "      <th>15</th>\n",
       "      <td>16</td>\n",
       "      <td>0.992124</td>\n",
       "      <td>0.955056</td>\n",
       "    </tr>\n",
       "    <tr>\n",
       "      <th>16</th>\n",
       "      <td>17</td>\n",
       "      <td>0.994102</td>\n",
       "      <td>0.955001</td>\n",
       "    </tr>\n",
       "    <tr>\n",
       "      <th>17</th>\n",
       "      <td>18</td>\n",
       "      <td>0.995988</td>\n",
       "      <td>0.954613</td>\n",
       "    </tr>\n",
       "    <tr>\n",
       "      <th>18</th>\n",
       "      <td>19</td>\n",
       "      <td>0.997171</td>\n",
       "      <td>0.954613</td>\n",
       "    </tr>\n",
       "    <tr>\n",
       "      <th>19</th>\n",
       "      <td>20</td>\n",
       "      <td>0.998281</td>\n",
       "      <td>0.954224</td>\n",
       "    </tr>\n",
       "    <tr>\n",
       "      <th>20</th>\n",
       "      <td>21</td>\n",
       "      <td>0.998983</td>\n",
       "      <td>0.954650</td>\n",
       "    </tr>\n",
       "    <tr>\n",
       "      <th>21</th>\n",
       "      <td>22</td>\n",
       "      <td>0.999390</td>\n",
       "      <td>0.954261</td>\n",
       "    </tr>\n",
       "    <tr>\n",
       "      <th>22</th>\n",
       "      <td>23</td>\n",
       "      <td>0.999723</td>\n",
       "      <td>0.954280</td>\n",
       "    </tr>\n",
       "    <tr>\n",
       "      <th>23</th>\n",
       "      <td>24</td>\n",
       "      <td>0.999797</td>\n",
       "      <td>0.954243</td>\n",
       "    </tr>\n",
       "    <tr>\n",
       "      <th>24</th>\n",
       "      <td>25</td>\n",
       "      <td>0.999871</td>\n",
       "      <td>0.954114</td>\n",
       "    </tr>\n",
       "    <tr>\n",
       "      <th>25</th>\n",
       "      <td>26</td>\n",
       "      <td>0.999926</td>\n",
       "      <td>0.954298</td>\n",
       "    </tr>\n",
       "    <tr>\n",
       "      <th>26</th>\n",
       "      <td>27</td>\n",
       "      <td>0.999982</td>\n",
       "      <td>0.954409</td>\n",
       "    </tr>\n",
       "    <tr>\n",
       "      <th>27</th>\n",
       "      <td>28</td>\n",
       "      <td>1.000000</td>\n",
       "      <td>0.954354</td>\n",
       "    </tr>\n",
       "    <tr>\n",
       "      <th>28</th>\n",
       "      <td>29</td>\n",
       "      <td>1.000000</td>\n",
       "      <td>0.954335</td>\n",
       "    </tr>\n",
       "  </tbody>\n",
       "</table>\n",
       "</div>"
      ],
      "text/plain": [
       "    depth  train_score  cross_value_score\n",
       "0       1     0.788593           0.787909\n",
       "1       2     0.826345           0.825199\n",
       "2       3     0.861287           0.861435\n",
       "3       4     0.902108           0.901109\n",
       "4       5     0.914032           0.909004\n",
       "5       6     0.926511           0.924589\n",
       "6       7     0.935385           0.928693\n",
       "7       8     0.946700           0.935977\n",
       "8       9     0.954335           0.943465\n",
       "9      10     0.961065           0.944223\n",
       "10     11     0.968072           0.948771\n",
       "11     12     0.975744           0.951137\n",
       "12     13     0.981845           0.953060\n",
       "13     14     0.985376           0.953836\n",
       "14     15     0.989185           0.954428\n",
       "15     16     0.992124           0.955056\n",
       "16     17     0.994102           0.955001\n",
       "17     18     0.995988           0.954613\n",
       "18     19     0.997171           0.954613\n",
       "19     20     0.998281           0.954224\n",
       "20     21     0.998983           0.954650\n",
       "21     22     0.999390           0.954261\n",
       "22     23     0.999723           0.954280\n",
       "23     24     0.999797           0.954243\n",
       "24     25     0.999871           0.954114\n",
       "25     26     0.999926           0.954298\n",
       "26     27     0.999982           0.954409\n",
       "27     28     1.000000           0.954354\n",
       "28     29     1.000000           0.954335"
      ]
     },
     "execution_count": 52,
     "metadata": {},
     "output_type": "execute_result"
    }
   ],
   "source": [
    "m2"
   ]
  },
  {
   "cell_type": "code",
   "execution_count": 53,
   "id": "04de7709",
   "metadata": {},
   "outputs": [
    {
     "name": "stdout",
     "output_type": "stream",
     "text": [
      "Best depth value is : 16       Corresponding cross value score is : 0.955056387502311\n"
     ]
    }
   ],
   "source": [
    "\n",
    "best_row = m2.loc[m2['cross_value_score'].idxmax()]\n",
    "dt_cv_score = best_row['cross_value_score']\n",
    "print(\"Best depth value is :\",int(best_row['depth']),\"      Corresponding cross value score is :\",dt_cv_score)"
   ]
  },
  {
   "cell_type": "code",
   "execution_count": 54,
   "id": "e5a005f2",
   "metadata": {},
   "outputs": [
    {
     "name": "stdout",
     "output_type": "stream",
     "text": [
      "Accuracy score for DT classification model : 0.8527817719278841\n"
     ]
    }
   ],
   "source": [
    "\n",
    "# accuracy score for DT\n",
    "\n",
    "y_pred = dt_class.predict(x_test)\n",
    "dt_acc_score = accuracy_score(y_test,y_pred)\n",
    "print(\"Accuracy score for DT classification model :\",dt_acc_score)"
   ]
  },
  {
   "cell_type": "code",
   "execution_count": 55,
   "id": "314c0625",
   "metadata": {},
   "outputs": [
    {
     "name": "stdout",
     "output_type": "stream",
     "text": [
      "F1 score for DT classification model : 0.5477404009514101\n"
     ]
    }
   ],
   "source": [
    "\n",
    "# f1 score for DT\n",
    "\n",
    "y_pred = dt_class.predict(x_test)\n",
    "dt_f1_score = f1_score(y_test, y_pred)\n",
    "print(\"F1 score for DT classification model :\",dt_f1_score)"
   ]
  },
  {
   "cell_type": "code",
   "execution_count": 56,
   "id": "97caee7a",
   "metadata": {},
   "outputs": [
    {
     "name": "stdout",
     "output_type": "stream",
     "text": [
      "AUROC score for DT classification model : 0.805027473831277\n"
     ]
    }
   ],
   "source": [
    "\n",
    "# auroc score for DT model\n",
    "\n",
    "y_pred = dt_class.predict(x_test)\n",
    "dt_auroc_score = roc_auc_score(y_test, y_pred)\n",
    "print(\"AUROC score for DT classification model :\",dt_auroc_score)"
   ]
  },
  {
   "cell_type": "code",
   "execution_count": null,
   "id": "9dcf303a",
   "metadata": {},
   "outputs": [],
   "source": []
  },
  {
   "cell_type": "markdown",
   "id": "f4854e92",
   "metadata": {},
   "source": [
    "# Random Forest"
   ]
  },
  {
   "cell_type": "code",
   "execution_count": 57,
   "id": "a9154340",
   "metadata": {},
   "outputs": [],
   "source": [
    "\n",
    "from sklearn.ensemble import RandomForestClassifier\n",
    "\n",
    "rf_cross_value = []\n",
    "for depth in range(1,20,2):\n",
    "    rf_class = RandomForestClassifier(max_depth=depth,random_state=42)\n",
    "    rf_class.fit(x_train_smt, y_train_smt)\n",
    "    rf_score = rf_class.score(x_train_smt, y_train_smt)\n",
    "    cv_score = cross_val_score(rf_class, x_train_smt, y_train_smt, cv=10).mean()\n",
    "    result = {'depth':depth,\n",
    "             'train_score':rf_score,\n",
    "             'cross_value_score':cv_score}\n",
    "    rf_cross_value.append(result)\n",
    "m3 = pd.DataFrame(rf_cross_value)"
   ]
  },
  {
   "cell_type": "code",
   "execution_count": 58,
   "id": "59ee5362",
   "metadata": {},
   "outputs": [
    {
     "data": {
      "text/html": [
       "<div>\n",
       "<style scoped>\n",
       "    .dataframe tbody tr th:only-of-type {\n",
       "        vertical-align: middle;\n",
       "    }\n",
       "\n",
       "    .dataframe tbody tr th {\n",
       "        vertical-align: top;\n",
       "    }\n",
       "\n",
       "    .dataframe thead th {\n",
       "        text-align: right;\n",
       "    }\n",
       "</style>\n",
       "<table border=\"1\" class=\"dataframe\">\n",
       "  <thead>\n",
       "    <tr style=\"text-align: right;\">\n",
       "      <th></th>\n",
       "      <th>depth</th>\n",
       "      <th>train_score</th>\n",
       "      <th>cross_value_score</th>\n",
       "    </tr>\n",
       "  </thead>\n",
       "  <tbody>\n",
       "    <tr>\n",
       "      <th>0</th>\n",
       "      <td>1</td>\n",
       "      <td>0.828453</td>\n",
       "      <td>0.824589</td>\n",
       "    </tr>\n",
       "    <tr>\n",
       "      <th>1</th>\n",
       "      <td>3</td>\n",
       "      <td>0.922518</td>\n",
       "      <td>0.919227</td>\n",
       "    </tr>\n",
       "    <tr>\n",
       "      <th>2</th>\n",
       "      <td>5</td>\n",
       "      <td>0.943927</td>\n",
       "      <td>0.939305</td>\n",
       "    </tr>\n",
       "    <tr>\n",
       "      <th>3</th>\n",
       "      <td>7</td>\n",
       "      <td>0.955463</td>\n",
       "      <td>0.950305</td>\n",
       "    </tr>\n",
       "    <tr>\n",
       "      <th>4</th>\n",
       "      <td>9</td>\n",
       "      <td>0.964226</td>\n",
       "      <td>0.955722</td>\n",
       "    </tr>\n",
       "    <tr>\n",
       "      <th>5</th>\n",
       "      <td>11</td>\n",
       "      <td>0.972657</td>\n",
       "      <td>0.959752</td>\n",
       "    </tr>\n",
       "    <tr>\n",
       "      <th>6</th>\n",
       "      <td>13</td>\n",
       "      <td>0.979922</td>\n",
       "      <td>0.962082</td>\n",
       "    </tr>\n",
       "    <tr>\n",
       "      <th>7</th>\n",
       "      <td>15</td>\n",
       "      <td>0.987650</td>\n",
       "      <td>0.962451</td>\n",
       "    </tr>\n",
       "    <tr>\n",
       "      <th>8</th>\n",
       "      <td>17</td>\n",
       "      <td>0.993455</td>\n",
       "      <td>0.963117</td>\n",
       "    </tr>\n",
       "    <tr>\n",
       "      <th>9</th>\n",
       "      <td>19</td>\n",
       "      <td>0.996968</td>\n",
       "      <td>0.963894</td>\n",
       "    </tr>\n",
       "  </tbody>\n",
       "</table>\n",
       "</div>"
      ],
      "text/plain": [
       "   depth  train_score  cross_value_score\n",
       "0      1     0.828453           0.824589\n",
       "1      3     0.922518           0.919227\n",
       "2      5     0.943927           0.939305\n",
       "3      7     0.955463           0.950305\n",
       "4      9     0.964226           0.955722\n",
       "5     11     0.972657           0.959752\n",
       "6     13     0.979922           0.962082\n",
       "7     15     0.987650           0.962451\n",
       "8     17     0.993455           0.963117\n",
       "9     19     0.996968           0.963894"
      ]
     },
     "execution_count": 58,
     "metadata": {},
     "output_type": "execute_result"
    }
   ],
   "source": [
    "m3"
   ]
  },
  {
   "cell_type": "code",
   "execution_count": 59,
   "id": "07500a63",
   "metadata": {},
   "outputs": [
    {
     "name": "stdout",
     "output_type": "stream",
     "text": [
      "Best depth value is : 19       Corresponding cross value score is : 0.9638935108153077\n"
     ]
    }
   ],
   "source": [
    "\n",
    "best_row = m3.loc[m3['cross_value_score'].idxmax()]\n",
    "rf_cv_score = best_row['cross_value_score']\n",
    "print('Best depth value is :',int(best_row['depth']),'      Corresponding cross value score is :',rf_cv_score)"
   ]
  },
  {
   "cell_type": "code",
   "execution_count": 64,
   "id": "c9f0589f",
   "metadata": {},
   "outputs": [
    {
     "name": "stdout",
     "output_type": "stream",
     "text": [
      "Accuracy score for RF classification model : 0.8708107510231169\n"
     ]
    }
   ],
   "source": [
    "\n",
    "# accuracy score for RF\n",
    "\n",
    "y_pred = rf_class.predict(x_test)\n",
    "rf_acc_score = accuracy_score(y_test, y_pred)\n",
    "print(\"Accuracy score for RF classification model :\",rf_acc_score)"
   ]
  },
  {
   "cell_type": "code",
   "execution_count": 61,
   "id": "c3d14955",
   "metadata": {},
   "outputs": [
    {
     "name": "stdout",
     "output_type": "stream",
     "text": [
      "F1 score for RF classification model : 0.5774240231548481\n"
     ]
    }
   ],
   "source": [
    "\n",
    "# f1 score for RF\n",
    "\n",
    "y_pred = rf_class.predict(x_test)\n",
    "rf_f1_score = f1_score(y_test, y_pred)\n",
    "print(\"F1 score for RF classification model :\",rf_f1_score)"
   ]
  },
  {
   "cell_type": "code",
   "execution_count": 62,
   "id": "c319071f",
   "metadata": {},
   "outputs": [
    {
     "name": "stdout",
     "output_type": "stream",
     "text": [
      "AUROC score for RF classification model : 0.8120921898385601\n"
     ]
    }
   ],
   "source": [
    "\n",
    "# auroc score for RF model\n",
    "\n",
    "y_pred = rf_class.predict(x_test)\n",
    "rf_auroc_score = roc_auc_score(y_test, y_pred)\n",
    "print(\"AUROC score for RF classification model :\",rf_auroc_score)"
   ]
  },
  {
   "cell_type": "code",
   "execution_count": null,
   "id": "c4de38b8",
   "metadata": {},
   "outputs": [],
   "source": []
  },
  {
   "cell_type": "markdown",
   "id": "ebfb94c2",
   "metadata": {},
   "source": [
    "# XGBoost"
   ]
  },
  {
   "cell_type": "code",
   "execution_count": 65,
   "id": "c4398cf6",
   "metadata": {},
   "outputs": [],
   "source": [
    "\n",
    "import xgboost as xgb\n",
    "\n",
    "value = []\n",
    "for i in range(21):\n",
    "    dec_val = i*0.05\n",
    "    if dec_val <= 1.0:\n",
    "        for_dec_val = '{:.2f}'.format(dec_val)\n",
    "        value.append(float(for_dec_val))\n",
    "xgboost_cross_value = []\n",
    "for lr_rate in value:\n",
    "    xgb_class = xgb.XGBClassifier(learning_rate = lr_rate, n_estimators=100)\n",
    "    xgb_class.fit(x_train_smt, y_train_smt)\n",
    "    xgb_score = xgb_class.score(x_train_smt, y_train_smt)\n",
    "    cv_score = cross_val_score(xgb_class, x_train_smt, y_train_smt, cv=10).mean()\n",
    "    result = {\n",
    "        'learning_rate':lr_rate,\n",
    "        'train score':xgb_score,\n",
    "        'cross_value_score':cv_score\n",
    "    }\n",
    "    xgboost_cross_value.append(result)\n",
    "m4 = pd.DataFrame(xgboost_cross_value)"
   ]
  },
  {
   "cell_type": "code",
   "execution_count": 66,
   "id": "4abe583a",
   "metadata": {},
   "outputs": [
    {
     "data": {
      "text/html": [
       "<div>\n",
       "<style scoped>\n",
       "    .dataframe tbody tr th:only-of-type {\n",
       "        vertical-align: middle;\n",
       "    }\n",
       "\n",
       "    .dataframe tbody tr th {\n",
       "        vertical-align: top;\n",
       "    }\n",
       "\n",
       "    .dataframe thead th {\n",
       "        text-align: right;\n",
       "    }\n",
       "</style>\n",
       "<table border=\"1\" class=\"dataframe\">\n",
       "  <thead>\n",
       "    <tr style=\"text-align: right;\">\n",
       "      <th></th>\n",
       "      <th>learning_rate</th>\n",
       "      <th>train score</th>\n",
       "      <th>cross_value_score</th>\n",
       "    </tr>\n",
       "  </thead>\n",
       "  <tbody>\n",
       "    <tr>\n",
       "      <th>0</th>\n",
       "      <td>0.00</td>\n",
       "      <td>0.566778</td>\n",
       "      <td>0.566778</td>\n",
       "    </tr>\n",
       "    <tr>\n",
       "      <th>1</th>\n",
       "      <td>0.05</td>\n",
       "      <td>0.970882</td>\n",
       "      <td>0.960899</td>\n",
       "    </tr>\n",
       "    <tr>\n",
       "      <th>2</th>\n",
       "      <td>0.10</td>\n",
       "      <td>0.977574</td>\n",
       "      <td>0.964411</td>\n",
       "    </tr>\n",
       "    <tr>\n",
       "      <th>3</th>\n",
       "      <td>0.15</td>\n",
       "      <td>0.980773</td>\n",
       "      <td>0.965280</td>\n",
       "    </tr>\n",
       "    <tr>\n",
       "      <th>4</th>\n",
       "      <td>0.20</td>\n",
       "      <td>0.983527</td>\n",
       "      <td>0.965872</td>\n",
       "    </tr>\n",
       "    <tr>\n",
       "      <th>5</th>\n",
       "      <td>0.25</td>\n",
       "      <td>0.985912</td>\n",
       "      <td>0.965631</td>\n",
       "    </tr>\n",
       "    <tr>\n",
       "      <th>6</th>\n",
       "      <td>0.30</td>\n",
       "      <td>0.988149</td>\n",
       "      <td>0.965373</td>\n",
       "    </tr>\n",
       "    <tr>\n",
       "      <th>7</th>\n",
       "      <td>0.35</td>\n",
       "      <td>0.990516</td>\n",
       "      <td>0.965594</td>\n",
       "    </tr>\n",
       "    <tr>\n",
       "      <th>8</th>\n",
       "      <td>0.40</td>\n",
       "      <td>0.991607</td>\n",
       "      <td>0.965631</td>\n",
       "    </tr>\n",
       "    <tr>\n",
       "      <th>9</th>\n",
       "      <td>0.45</td>\n",
       "      <td>0.993049</td>\n",
       "      <td>0.965779</td>\n",
       "    </tr>\n",
       "    <tr>\n",
       "      <th>10</th>\n",
       "      <td>0.50</td>\n",
       "      <td>0.994546</td>\n",
       "      <td>0.965502</td>\n",
       "    </tr>\n",
       "    <tr>\n",
       "      <th>11</th>\n",
       "      <td>0.55</td>\n",
       "      <td>0.995563</td>\n",
       "      <td>0.965040</td>\n",
       "    </tr>\n",
       "    <tr>\n",
       "      <th>12</th>\n",
       "      <td>0.60</td>\n",
       "      <td>0.996044</td>\n",
       "      <td>0.964892</td>\n",
       "    </tr>\n",
       "    <tr>\n",
       "      <th>13</th>\n",
       "      <td>0.65</td>\n",
       "      <td>0.996524</td>\n",
       "      <td>0.964596</td>\n",
       "    </tr>\n",
       "    <tr>\n",
       "      <th>14</th>\n",
       "      <td>0.70</td>\n",
       "      <td>0.997818</td>\n",
       "      <td>0.964374</td>\n",
       "    </tr>\n",
       "    <tr>\n",
       "      <th>15</th>\n",
       "      <td>0.75</td>\n",
       "      <td>0.998244</td>\n",
       "      <td>0.964615</td>\n",
       "    </tr>\n",
       "    <tr>\n",
       "      <th>16</th>\n",
       "      <td>0.80</td>\n",
       "      <td>0.998355</td>\n",
       "      <td>0.964300</td>\n",
       "    </tr>\n",
       "    <tr>\n",
       "      <th>17</th>\n",
       "      <td>0.85</td>\n",
       "      <td>0.998798</td>\n",
       "      <td>0.964633</td>\n",
       "    </tr>\n",
       "    <tr>\n",
       "      <th>18</th>\n",
       "      <td>0.90</td>\n",
       "      <td>0.998909</td>\n",
       "      <td>0.963746</td>\n",
       "    </tr>\n",
       "    <tr>\n",
       "      <th>19</th>\n",
       "      <td>0.95</td>\n",
       "      <td>0.999353</td>\n",
       "      <td>0.963505</td>\n",
       "    </tr>\n",
       "    <tr>\n",
       "      <th>20</th>\n",
       "      <td>1.00</td>\n",
       "      <td>0.999630</td>\n",
       "      <td>0.964245</td>\n",
       "    </tr>\n",
       "  </tbody>\n",
       "</table>\n",
       "</div>"
      ],
      "text/plain": [
       "    learning_rate  train score  cross_value_score\n",
       "0            0.00     0.566778           0.566778\n",
       "1            0.05     0.970882           0.960899\n",
       "2            0.10     0.977574           0.964411\n",
       "3            0.15     0.980773           0.965280\n",
       "4            0.20     0.983527           0.965872\n",
       "5            0.25     0.985912           0.965631\n",
       "6            0.30     0.988149           0.965373\n",
       "7            0.35     0.990516           0.965594\n",
       "8            0.40     0.991607           0.965631\n",
       "9            0.45     0.993049           0.965779\n",
       "10           0.50     0.994546           0.965502\n",
       "11           0.55     0.995563           0.965040\n",
       "12           0.60     0.996044           0.964892\n",
       "13           0.65     0.996524           0.964596\n",
       "14           0.70     0.997818           0.964374\n",
       "15           0.75     0.998244           0.964615\n",
       "16           0.80     0.998355           0.964300\n",
       "17           0.85     0.998798           0.964633\n",
       "18           0.90     0.998909           0.963746\n",
       "19           0.95     0.999353           0.963505\n",
       "20           1.00     0.999630           0.964245"
      ]
     },
     "execution_count": 66,
     "metadata": {},
     "output_type": "execute_result"
    }
   ],
   "source": [
    "m4"
   ]
  },
  {
   "cell_type": "code",
   "execution_count": 67,
   "id": "03e9929f",
   "metadata": {},
   "outputs": [
    {
     "name": "stdout",
     "output_type": "stream",
     "text": [
      "Best Learning Rate is : 0.2       Corresponding cross value score is : 0.9658716953226104\n"
     ]
    }
   ],
   "source": [
    "\n",
    "best_row = m4.loc[m4['cross_value_score'].idxmax()]\n",
    "xgb_cv_score = best_row['cross_value_score']\n",
    "print('Best Learning Rate is :',float(best_row['learning_rate']),'      Corresponding cross value score is :',xgb_cv_score)"
   ]
  },
  {
   "cell_type": "code",
   "execution_count": 68,
   "id": "3507cabf",
   "metadata": {},
   "outputs": [
    {
     "name": "stdout",
     "output_type": "stream",
     "text": [
      "Accuracy score for XGB classification model : 0.8762305054750581\n"
     ]
    }
   ],
   "source": [
    "\n",
    "# accuracy score for XGB\n",
    "\n",
    "y_pred = xgb_class.predict(x_test)\n",
    "xgb_acc_score = accuracy_score(y_test, y_pred)\n",
    "print(\"Accuracy score for XGB classification model :\",xgb_acc_score)"
   ]
  },
  {
   "cell_type": "code",
   "execution_count": 69,
   "id": "b977afd2",
   "metadata": {},
   "outputs": [
    {
     "name": "stdout",
     "output_type": "stream",
     "text": [
      "F1 score for XGB classification model : 0.5970471732084983\n"
     ]
    }
   ],
   "source": [
    "\n",
    "# f1 score for XGB\n",
    "\n",
    "y_pred = xgb_class.predict(x_test)\n",
    "xgb_f1_score = f1_score(y_test, y_pred)\n",
    "print(\"F1 score for XGB classification model :\",xgb_f1_score)"
   ]
  },
  {
   "cell_type": "code",
   "execution_count": 70,
   "id": "3978e7e4",
   "metadata": {},
   "outputs": [
    {
     "name": "stdout",
     "output_type": "stream",
     "text": [
      "AUROC score for XGB classification model : 0.8274961136132921\n"
     ]
    }
   ],
   "source": [
    "\n",
    "# auroc score for RF model\n",
    "\n",
    "y_pred = xgb_class.predict(x_test)\n",
    "xgb_auroc_score = roc_auc_score(y_test, y_pred)\n",
    "print(\"AUROC score for XGB classification model :\",xgb_auroc_score)"
   ]
  },
  {
   "cell_type": "code",
   "execution_count": null,
   "id": "e70726d5",
   "metadata": {},
   "outputs": [],
   "source": []
  },
  {
   "cell_type": "code",
   "execution_count": 71,
   "id": "f52da87b",
   "metadata": {},
   "outputs": [
    {
     "name": "stdout",
     "output_type": "stream",
     "text": [
      "Cross Value Score For Logistic Regression model      : 0.8810870770937326\n",
      "Cross Value Score For KNN Classification model       : 0.9730264374191163\n",
      "Cross Value Score For DT Classification model        : 0.955056387502311\n",
      "Cross Value Score For RF Classification model        : 0.9638935108153077\n",
      "Cross Value Score For XGBOOST Classification model   : 0.9658716953226104\n"
     ]
    }
   ],
   "source": [
    "\n",
    "\n",
    "# Cross Value Score For All Models\n",
    "\n",
    "print('Cross Value Score For Logistic Regression model      :',lr_cv_score)\n",
    "print('Cross Value Score For KNN Classification model       :',knn_cv_score)\n",
    "print('Cross Value Score For DT Classification model        :',dt_cv_score)\n",
    "print('Cross Value Score For RF Classification model        :',rf_cv_score)\n",
    "print('Cross Value Score For XGBOOST Classification model   :',xgb_cv_score)"
   ]
  },
  {
   "cell_type": "code",
   "execution_count": null,
   "id": "cefa7a59",
   "metadata": {},
   "outputs": [],
   "source": []
  },
  {
   "cell_type": "markdown",
   "id": "d6925bc1",
   "metadata": {},
   "source": [
    "# EVALUATION METRICS"
   ]
  },
  {
   "cell_type": "markdown",
   "id": "52b3bc47",
   "metadata": {},
   "source": [
    "\n",
    "## ACCURACY score"
   ]
  },
  {
   "cell_type": "code",
   "execution_count": 72,
   "id": "e5d809a8",
   "metadata": {},
   "outputs": [
    {
     "name": "stdout",
     "output_type": "stream",
     "text": [
      "Accuracy score for logistic regression model      : 0.7558898351952218\n",
      "Accuracy score for KNN Classification model       : 0.8314345758212587\n",
      "Accuracy score for DT Classification model        : 0.8527817719278841\n",
      "Accuracy Score For RF Classification model        : 0.8708107510231169\n",
      "Accuracy Score For XGBOOST Classification model   : 0.8762305054750581\n"
     ]
    }
   ],
   "source": [
    "\n",
    "# Accuracy score for all models\n",
    "\n",
    "print(\"Accuracy score for logistic regression model      :\",lr_acc_score)\n",
    "print(\"Accuracy score for KNN Classification model       :\",knn_acc_score)\n",
    "print(\"Accuracy score for DT Classification model        :\",dt_acc_score)\n",
    "print('Accuracy Score For RF Classification model        :',rf_acc_score)\n",
    "print('Accuracy Score For XGBOOST Classification model   :',xgb_acc_score)"
   ]
  },
  {
   "cell_type": "code",
   "execution_count": null,
   "id": "5fe5c856",
   "metadata": {},
   "outputs": [],
   "source": []
  },
  {
   "cell_type": "markdown",
   "id": "87178c06",
   "metadata": {},
   "source": [
    "## F1 SCORE"
   ]
  },
  {
   "cell_type": "code",
   "execution_count": 73,
   "id": "f32caa98",
   "metadata": {},
   "outputs": [
    {
     "name": "stdout",
     "output_type": "stream",
     "text": [
      "F1 score for logistic regression model      : 0.45760629147210613\n",
      "F1 score for KNN Classification model       : 0.519242902208202\n",
      "F1 score for DT Classification model        : 0.5477404009514101\n",
      "F1 Score For RF Classification model        : 0.5774240231548481\n",
      "F1 Score For XGBOOST Classification model   : 0.5970471732084983\n"
     ]
    }
   ],
   "source": [
    "\n",
    "# F1 score for all models\n",
    "\n",
    "print(\"F1 score for logistic regression model      :\",lr_f1_score)\n",
    "print(\"F1 score for KNN Classification model       :\",knn_f1_score)\n",
    "print(\"F1 score for DT Classification model        :\",dt_f1_score)\n",
    "print('F1 Score For RF Classification model        :',rf_f1_score)\n",
    "print('F1 Score For XGBOOST Classification model   :',xgb_f1_score)"
   ]
  },
  {
   "cell_type": "code",
   "execution_count": null,
   "id": "bba4220f",
   "metadata": {},
   "outputs": [],
   "source": []
  },
  {
   "cell_type": "markdown",
   "id": "65c1c6b1",
   "metadata": {},
   "source": [
    "## AUROC score"
   ]
  },
  {
   "cell_type": "code",
   "execution_count": 74,
   "id": "ad804d28",
   "metadata": {},
   "outputs": [
    {
     "name": "stdout",
     "output_type": "stream",
     "text": [
      "AUROC score for logistic regression model      : 0.7996617136216262\n",
      "AUROC score for KNN Classification model       : 0.7996551157350335\n",
      "AUROC score for DT Classification model        : 0.805027473831277\n",
      "AUROC Score For RF Classification model        : 0.8120921898385601\n",
      "AUROC Score For XGBOOST Classification model   : 0.8274961136132921\n"
     ]
    }
   ],
   "source": [
    "\n",
    "# auroc score for all models\n",
    "\n",
    "print(\"AUROC score for logistic regression model      :\",lr_auroc_score)\n",
    "print(\"AUROC score for KNN Classification model       :\",knn_auroc_score)\n",
    "print(\"AUROC score for DT Classification model        :\",dt_auroc_score)\n",
    "print('AUROC Score For RF Classification model        :',rf_auroc_score)\n",
    "print('AUROC Score For XGBOOST Classification model   :',xgb_auroc_score)"
   ]
  },
  {
   "cell_type": "code",
   "execution_count": null,
   "id": "5431297e",
   "metadata": {},
   "outputs": [],
   "source": []
  },
  {
   "cell_type": "markdown",
   "id": "c3fd889f",
   "metadata": {},
   "source": [
    "\n",
    "### From the above Evaluation metrics used in these models, XGBoost classification model gives good score of around 0.83\n",
    "\n",
    "#### now let's plot the feature importance for this model"
   ]
  },
  {
   "cell_type": "code",
   "execution_count": null,
   "id": "069c6e5d",
   "metadata": {},
   "outputs": [],
   "source": []
  },
  {
   "cell_type": "markdown",
   "id": "25183d27",
   "metadata": {},
   "source": [
    "# Feature Importance"
   ]
  },
  {
   "cell_type": "code",
   "execution_count": 75,
   "id": "6b87789b",
   "metadata": {},
   "outputs": [
    {
     "data": {
      "image/png": "[encoded data removed]",
      "text/plain": [
       "<Figure size 1000x800 with 1 Axes>"
      ]
     },
     "metadata": {},
     "output_type": "display_data"
    }
   ],
   "source": [
    "\n",
    "# Get the feature importances and their corresponding indices\n",
    "importances = xgb_class.feature_importances_\n",
    "indices = importances.argsort()\n",
    "\n",
    "# Get the names of columns, excluding 'target'\n",
    "columns_without_target = [col for col in df.columns if col != 'target']\n",
    "\n",
    "# Create a bar plot to visualize feature importance\n",
    "plt.figure(figsize=(10, 8))\n",
    "plt.barh([columns_without_target[i] for i in indices], importances[indices])\n",
    "plt.title('FEATURE IMPORTANCE')\n",
    "plt.show()"
   ]
  },
  {
   "cell_type": "code",
   "execution_count": null,
   "id": "d6db28a5",
   "metadata": {},
   "outputs": [],
   "source": []
  },
  {
   "cell_type": "markdown",
   "id": "22a2c6ff",
   "metadata": {},
   "source": [
    "\n",
    "## Conclusion\n",
    "\n",
    "In this project we have analysed the given dataset and used various machine learning models for prediction.\n",
    "\n",
    "The problem statement given is Supervised Learning and of type Binary classification.\n",
    "\n",
    "We have Evaluated our models with AUROC_Score and Xgboost classification model was found to give highest score of 0.85.\n",
    "\n",
    "The client should focused on the top few features of order given below to have them subscribed to the insurance.\n",
    "\n",
    "- Previous-outcome : where success is the least in previous-outcome but most subscribed are from success.\n",
    "- Duration : Longer the call better influncing the clients.\n",
    "- Call-type : this is not that important to get the client subscribed.\n",
    "- Job : In this blue collar people are targeted more but people who subscribed more are from management job.\n",
    "- Month : In the month of may people subscribed to insurance are more.\n"
   ]
  },
  {
   "cell_type": "code",
   "execution_count": null,
   "id": "9a337051",
   "metadata": {},
   "outputs": [],
   "source": []
  },
  {
   "cell_type": "code",
   "execution_count": null,
   "id": "8975da14",
   "metadata": {},
   "outputs": [],
   "source": []
  }
 ],
 "metadata": {
  "kernelspec": {
   "display_name": "Python 3 (ipykernel)",
   "language": "python",
   "name": "python3"
  },
  "language_info": {
   "codemirror_mode": {
    "name": "ipython",
    "version": 3
   },
   "file_extension": ".py",
   "mimetype": "text/x-python",
   "name": "python",
   "nbconvert_exporter": "python",
   "pygments_lexer": "ipython3",
   "version": "3.10.9"
  }
 },
 "nbformat": 4,
 "nbformat_minor": 5
}
